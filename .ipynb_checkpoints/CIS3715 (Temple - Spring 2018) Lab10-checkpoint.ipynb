{
 "cells": [
  {
   "cell_type": "markdown",
   "metadata": {
    "slideshow": {
     "slide_type": "slide"
    }
   },
   "source": [
    "## Lab 10, Part 1:   Convolutional Neural Networks (CNN) "
   ]
  },
  {
   "cell_type": "markdown",
   "metadata": {},
   "source": [
    "In this lab, we will learn how to train CNNs. All the code is provided. The code is allowing you to prepare the data and train a CNN that classifies which digit is written in an image provided at its input. We will show how you can train 4 different CNN, ranging from simple to more complex, and let you observe how it impacts classification accuracy. "
   ]
  },
  {
   "cell_type": "markdown",
   "metadata": {
    "slideshow": {
     "slide_type": "subslide"
    }
   },
   "source": [
    "### MNIST Data Set\n",
    "\n",
    "MNIST is a dataset of hand-written digits. Size of each image is 28 by 28 pixels, where each pixel has values between 0 (white) and 255 (black). \n",
    "\n",
    "CNN training can take quite a bit of time (particularly if GPU isn't used), so we will create a training data set that uses a subset of available data. In particular, we will define the classification problem as recognizing whether a digit in an image is 7 or not. The following piece of code shows the data preparation steps."
   ]
  },
  {
   "cell_type": "markdown",
   "metadata": {
    "slideshow": {
     "slide_type": "subslide"
    }
   },
   "source": [
    "The following block selects a subset of images from the MNIST data."
   ]
  },
  {
   "cell_type": "code",
   "execution_count": null,
   "metadata": {
    "slideshow": {
     "slide_type": "subslide"
    }
   },
   "outputs": [
    {
     "name": "stderr",
     "output_type": "stream",
     "text": [
      "Using TensorFlow backend.\n"
     ]
    }
   ],
   "source": [
    "#Import the required libraries\n",
    "import numpy as np\n",
    "\n",
    "from keras.datasets import mnist\n",
    "from keras.models import Sequential\n",
    "from keras.layers.core import Dense, Dropout, Activation, Flatten\n",
    "from keras.layers.convolutional import Conv2D\n",
    "from keras.layers.pooling import MaxPooling2D\n",
    "from keras.utils import np_utils\n",
    "from keras.optimizers import SGD"
   ]
  },
  {
   "cell_type": "code",
   "execution_count": 63,
   "metadata": {
    "slideshow": {
     "slide_type": "-"
    }
   },
   "outputs": [],
   "source": [
    "#Load the training and testing data\n",
    "(X_train, y_train), (X_test, y_test) = mnist.load_data()\n",
    "X_test_orig = X_test\n",
    "\n",
    "# Select the subset from the train data for the sake of time.\n",
    "np.random.seed(1338)  # for reproducibilty!!\n",
    "# The subset is composed of all the examples where the digit is 7, and 20,000 examples are not 7.\\\n",
    "sevens = np.where(y_train == 7)[0].tolist()\n",
    "not_sevens = np.where(y_train != 7)[0].tolist()\n",
    "num_keepers = 20000\n",
    "not_sevens = np.random.choice(not_sevens, num_keepers, replace=False).tolist()\n",
    "\n",
    "subset = sevens + not_sevens\n",
    "np.random.shuffle(subset) # shuffle the input\n",
    "\n",
    "X_train = X_train[subset, :, :]\n",
    "y_train = y_train[subset]"
   ]
  },
  {
   "cell_type": "code",
   "execution_count": 64,
   "metadata": {},
   "outputs": [
    {
     "name": "stdout",
     "output_type": "stream",
     "text": [
      "255 255\n",
      "0 0\n"
     ]
    }
   ],
   "source": [
    "print(X_train.max(), X_test.max())\n",
    "print(X_train.min(), X_test.min())"
   ]
  },
  {
   "cell_type": "code",
   "execution_count": 65,
   "metadata": {},
   "outputs": [
    {
     "name": "stdout",
     "output_type": "stream",
     "text": [
      "9 9\n",
      "0 0\n"
     ]
    }
   ],
   "source": [
    "print(y_train.max(), y_test.max())\n",
    "print(y_train.min(), y_test.min())"
   ]
  },
  {
   "cell_type": "markdown",
   "metadata": {},
   "source": [
    "The following code creates training and test data. It would be great if you can spend a few minutes trying to understand what is going on."
   ]
  },
  {
   "cell_type": "code",
   "execution_count": 3,
   "metadata": {},
   "outputs": [
    {
     "name": "stdout",
     "output_type": "stream",
     "text": [
      "(26265, 28, 28) (10000, 28, 28) (26265,) (10000,)\n"
     ]
    }
   ],
   "source": [
    "print(X_train.shape, X_test.shape, y_train.shape, y_test.shape)"
   ]
  },
  {
   "cell_type": "code",
   "execution_count": 4,
   "metadata": {},
   "outputs": [
    {
     "name": "stdout",
     "output_type": "stream",
     "text": [
      "(28, 28, 1)\n"
     ]
    }
   ],
   "source": [
    "from keras import backend as K\n",
    "\n",
    "img_rows, img_cols = 28, 28\n",
    "\n",
    "if K.image_data_format() == 'channels_first':\n",
    "    shape_ord = (1, img_rows, img_cols)\n",
    "else:  # channel_last\n",
    "    shape_ord = (img_rows, img_cols, 1)\n",
    "\n",
    "# Normalize the images:\n",
    "print(shape_ord)\n",
    "X_train = X_train.reshape((X_train.shape[0],) + shape_ord)\n",
    "X_test = X_test.reshape((X_test.shape[0],) + shape_ord)\n",
    "\n",
    "X_train = X_train.astype('float32')\n",
    "X_test = X_test.astype('float32')\n",
    "\n",
    "X_train /= 255\n",
    "X_test /= 255\n",
    "\n",
    "# Create labels:\n",
    "\n",
    "# Converting the labels to binary classification(Seven =1,Not Seven=0)\n",
    "Y_train = (y_train == 7).astype(int)\n",
    "Y_test = (y_test == 7).astype(int)\n",
    "\n",
    "# Converting the classes to its binary categorical form\n",
    "nb_classes = 2\n",
    "Y_train = np_utils.to_categorical(Y_train, nb_classes)\n",
    "Y_test = np_utils.to_categorical(Y_test, nb_classes)"
   ]
  },
  {
   "cell_type": "markdown",
   "metadata": {},
   "source": [
    "**Question 1.** What are the dimensions of X_train, X_test, Y_train and Y_test? What are ranges of numbers in each of those?"
   ]
  },
  {
   "cell_type": "code",
   "execution_count": 5,
   "metadata": {},
   "outputs": [
    {
     "name": "stdout",
     "output_type": "stream",
     "text": [
      "(26265, 28, 28, 1) (10000, 28, 28, 1) (26265, 2) (10000, 2)\n"
     ]
    }
   ],
   "source": [
    "print(X_train.shape, X_test.shape, Y_train.shape, Y_test.shape)"
   ]
  },
  {
   "cell_type": "code",
   "execution_count": 6,
   "metadata": {},
   "outputs": [
    {
     "name": "stdout",
     "output_type": "stream",
     "text": [
      "1.0 1.0 1.0 1.0\n",
      "0.0 0.0 0.0 0.0\n"
     ]
    }
   ],
   "source": [
    "print(X_train.max(), X_test.max(), Y_train.max(), Y_test.max())\n",
    "print(X_train.min(), X_test.min(), Y_test.min(), Y_test.min())"
   ]
  },
  {
   "cell_type": "markdown",
   "metadata": {},
   "source": [
    "But originally, X_train and X_test ranges from 0 to 255, and Y_train and Y_test ranges from 0 to 9"
   ]
  },
  {
   "cell_type": "markdown",
   "metadata": {
    "slideshow": {
     "slide_type": "slide"
    }
   },
   "source": [
    "### Train a simple CNN (CNN, model 1)\n",
    "\n",
    "The following code will show how you can define CNN, train it, and test its accuracy. "
   ]
  },
  {
   "cell_type": "markdown",
   "metadata": {},
   "source": [
    "**Step 0.** The following is a preparation step, specifying the hyperparameters."
   ]
  },
  {
   "cell_type": "code",
   "execution_count": 7,
   "metadata": {
    "slideshow": {
     "slide_type": "subslide"
    }
   },
   "outputs": [],
   "source": [
    "# -- Initializing the values for the convolution neural network\n",
    "\n",
    "nb_epoch = 2  # kept very low! Please increase if you have GPU\n",
    "\n",
    "batch_size = 64\n",
    "# number of convolutional filters to use\n",
    "nb_filters = 32\n",
    "# size of pooling area for max pooling\n",
    "nb_pool = 2\n",
    "# convolution kernel size\n",
    "nb_conv = 3\n",
    "\n",
    "# Vanilla SGD\n",
    "sgd = SGD(lr=0.1, decay=1e-6, momentum=0.9, nesterov=True)"
   ]
  },
  {
   "cell_type": "markdown",
   "metadata": {
    "slideshow": {
     "slide_type": "subslide"
    }
   },
   "source": [
    "**Step 1.** In this step we define architecture of the CNN\n",
    "\n",
    "Each line \"model.add()\" adds another layer to the neural network. The type of layer must be specified. "
   ]
  },
  {
   "cell_type": "code",
   "execution_count": 8,
   "metadata": {},
   "outputs": [],
   "source": [
    "model = Sequential()\n",
    "\n",
    "model.add(Conv2D(nb_filters, (nb_conv, nb_conv), padding='valid', \n",
    "                 input_shape=shape_ord))  # note: the very first layer **must** always specify the input_shape\n",
    "model.add(Activation('relu'))\n",
    "model.add(MaxPooling2D(pool_size=(26, 26)))\n",
    "model.add(Flatten())\n",
    "model.add(Dense(nb_classes))\n",
    "model.add(Activation('softmax'))"
   ]
  },
  {
   "cell_type": "markdown",
   "metadata": {},
   "source": [
    "We can check the configuration of the above model by call model.summary()"
   ]
  },
  {
   "cell_type": "code",
   "execution_count": 9,
   "metadata": {},
   "outputs": [
    {
     "name": "stdout",
     "output_type": "stream",
     "text": [
      "_________________________________________________________________\n",
      "Layer (type)                 Output Shape              Param #   \n",
      "=================================================================\n",
      "conv2d_1 (Conv2D)            (None, 26, 26, 32)        320       \n",
      "_________________________________________________________________\n",
      "activation_1 (Activation)    (None, 26, 26, 32)        0         \n",
      "_________________________________________________________________\n",
      "max_pooling2d_1 (MaxPooling2 (None, 1, 1, 32)          0         \n",
      "_________________________________________________________________\n",
      "flatten_1 (Flatten)          (None, 32)                0         \n",
      "_________________________________________________________________\n",
      "dense_1 (Dense)              (None, 2)                 66        \n",
      "_________________________________________________________________\n",
      "activation_2 (Activation)    (None, 2)                 0         \n",
      "=================================================================\n",
      "Total params: 386\n",
      "Trainable params: 386\n",
      "Non-trainable params: 0\n",
      "_________________________________________________________________\n"
     ]
    }
   ],
   "source": [
    "model.summary()"
   ]
  },
  {
   "cell_type": "markdown",
   "metadata": {},
   "source": [
    "** Question 2. ** From the above summary, can you explain the architecture of this CNN?"
   ]
  },
  {
   "cell_type": "markdown",
   "metadata": {},
   "source": [
    "Our model has 6 layers. The first layer is the convolutional layer: our output are 32 filters each of size (28 - 3 + 1) x (28 - 3 + 1), our filter size is 3x3, so we have 32 * (9 + 1 bias unit) = 320 parameters. The second layer is activation_1: we basically use the output of the first layer as input. Our third layer is max_pooling: since our pool_size is 26 x 26, which equal to the dimension of each of the filter, so our output's shape is a 1x1x32 array. Our fourth layer is flattern_1, here we take max_pooling_1's output as input and flatten the array. Our fifth layer is dense_1: our input is of size 32, we use nb_classes as the number of output units, so our output is of size 2, the number of parameters = (32 + 1) * 2 = 66. Our last layer is activation_2, which uses dense_1 as input. "
   ]
  },
  {
   "cell_type": "markdown",
   "metadata": {
    "slideshow": {
     "slide_type": "subslide"
    }
   },
   "source": [
    "**Step 2.** Here, we define the loss function. You will see that the loss function is not Mean Square Error, but Cross Entropy. Cross Entropy is a very popular choice when training neural networks for classification problems."
   ]
  },
  {
   "cell_type": "code",
   "execution_count": 10,
   "metadata": {},
   "outputs": [],
   "source": [
    "model.compile(loss='categorical_crossentropy',\n",
    "              optimizer=sgd,\n",
    "              metrics=['accuracy'])"
   ]
  },
  {
   "cell_type": "markdown",
   "metadata": {
    "slideshow": {
     "slide_type": "subslide"
    }
   },
   "source": [
    "**Step 3.** This line of code trains CNN. This is going to take about a minute. Observe that we will only have 2 epochs of training, in the iterest of time. You will see how the accuracy on training and valiadion data evolves during training."
   ]
  },
  {
   "cell_type": "code",
   "execution_count": 11,
   "metadata": {},
   "outputs": [
    {
     "name": "stdout",
     "output_type": "stream",
     "text": [
      "WARNING:tensorflow:Variable *= will be deprecated. Use variable.assign_mul if you want assignment to the variable value or 'x = x * y' if you want a new python Tensor object.\n",
      "Train on 26265 samples, validate on 10000 samples\n",
      "Epoch 1/2\n",
      "26265/26265 [==============================] - 16s 625us/step - loss: 0.3579 - acc: 0.8664 - val_loss: 0.7118 - val_acc: 0.6195\n",
      "Epoch 2/2\n",
      "26265/26265 [==============================] - 15s 583us/step - loss: 0.2413 - acc: 0.9140 - val_loss: 0.5867 - val_acc: 0.7096\n"
     ]
    }
   ],
   "source": [
    "hist = model.fit(X_train, Y_train, batch_size=batch_size, \n",
    "                 epochs=nb_epoch, verbose=1, \n",
    "                 validation_data=(X_test, Y_test))"
   ]
  },
  {
   "cell_type": "markdown",
   "metadata": {},
   "source": [
    "Let us plot the accuracy. "
   ]
  },
  {
   "cell_type": "code",
   "execution_count": 12,
   "metadata": {},
   "outputs": [
    {
     "data": {
      "text/plain": [
       "<matplotlib.legend.Legend at 0x21c1d876eb8>"
      ]
     },
     "execution_count": 12,
     "metadata": {},
     "output_type": "execute_result"
    },
    {
     "data": {
      "image/png": "[encoded data removed]",
      "text/plain": [
       "<matplotlib.figure.Figure at 0x21c190605c0>"
      ]
     },
     "metadata": {},
     "output_type": "display_data"
    },
    {
     "data": {
      "image/png": "[encoded data removed]",
      "text/plain": [
       "<matplotlib.figure.Figure at 0x21c1cf3d0f0>"
      ]
     },
     "metadata": {},
     "output_type": "display_data"
    }
   ],
   "source": [
    "import matplotlib.pyplot as plt\n",
    "%matplotlib inline\n",
    "\n",
    "plt.figure()\n",
    "plt.xlabel('Epochs')\n",
    "plt.ylabel('Loss')\n",
    "plt.plot(hist.history['loss'])\n",
    "plt.plot(hist.history['val_loss'])\n",
    "plt.legend(['Training', 'Validation'])\n",
    "\n",
    "plt.figure()\n",
    "plt.xlabel('Epochs')\n",
    "plt.ylabel('Accuracy')\n",
    "plt.plot(hist.history['acc'])\n",
    "plt.plot(hist.history['val_acc'])\n",
    "plt.legend(['Training', 'Validation'], loc='lower right')"
   ]
  },
  {
   "cell_type": "markdown",
   "metadata": {
    "slideshow": {
     "slide_type": "subslide"
    }
   },
   "source": [
    "**Step 4.** Evaluate the accuracy on test data."
   ]
  },
  {
   "cell_type": "code",
   "execution_count": 13,
   "metadata": {},
   "outputs": [
    {
     "name": "stdout",
     "output_type": "stream",
     "text": [
      "Test Loss: 0.586706068707\n",
      "Test Accuracy: 0.7096\n"
     ]
    }
   ],
   "source": [
    "# Evaluating the model on the test data    \n",
    "loss, accuracy = model.evaluate(X_test, Y_test, verbose=0)\n",
    "print('Test Loss:', loss)\n",
    "print('Test Accuracy:', accuracy)"
   ]
  },
  {
   "cell_type": "markdown",
   "metadata": {
    "slideshow": {
     "slide_type": "subslide"
    }
   },
   "source": [
    "Let us visualize our model Predictions!"
   ]
  },
  {
   "cell_type": "code",
   "execution_count": 14,
   "metadata": {
    "slideshow": {
     "slide_type": "skip"
    }
   },
   "outputs": [],
   "source": [
    "import matplotlib.pyplot as plt\n",
    "\n",
    "%matplotlib inline"
   ]
  },
  {
   "cell_type": "code",
   "execution_count": 15,
   "metadata": {
    "slideshow": {
     "slide_type": "subslide"
    }
   },
   "outputs": [
    {
     "data": {
      "image/png": "[encoded data removed]",
      "text/plain": [
       "<matplotlib.figure.Figure at 0x21c1cf4c710>"
      ]
     },
     "metadata": {},
     "output_type": "display_data"
    }
   ],
   "source": [
    "slice = 15\n",
    "predicted = model.predict(X_test[:slice]).argmax(-1)\n",
    "\n",
    "plt.figure(figsize=(16,8))\n",
    "for i in range(slice):\n",
    "    plt.subplot(1, slice, i+1)\n",
    "    plt.imshow(X_test_orig[i], interpolation='nearest')\n",
    "    plt.text(0, 0, predicted[i], color='black', \n",
    "             bbox=dict(facecolor='white', alpha=1))\n",
    "    plt.axis('off')"
   ]
  },
  {
   "cell_type": "markdown",
   "metadata": {},
   "source": [
    "**Question 3.** Can you discuss the performance of the CNN model? What kind of errors is it making?"
   ]
  },
  {
   "cell_type": "markdown",
   "metadata": {},
   "source": [
    "We have made predictions on 14 test examples, among which only one is 7. The model correctly identifies 7. But it wrongly predict 4, 6, 9 as 7. In fact, in 4 examples that the model wrongly predicts, the way the vertial line in 4 and 9 is written looks very much like the vertical line in 7.  "
   ]
  },
  {
   "cell_type": "markdown",
   "metadata": {},
   "source": [
    "**Question 4.** Run the training for 10 epochs. How did it impact the accuracy?"
   ]
  },
  {
   "cell_type": "code",
   "execution_count": 16,
   "metadata": {},
   "outputs": [
    {
     "name": "stdout",
     "output_type": "stream",
     "text": [
      "Train on 26265 samples, validate on 10000 samples\n",
      "Epoch 1/10\n",
      "26265/26265 [==============================] - 15s 574us/step - loss: 0.2143 - acc: 0.9234 - val_loss: 0.1068 - val_acc: 0.9659\n",
      "Epoch 2/10\n",
      "26265/26265 [==============================] - 15s 573us/step - loss: 0.2028 - acc: 0.9273 - val_loss: 0.3273 - val_acc: 0.8600\n",
      "Epoch 3/10\n",
      "26265/26265 [==============================] - 14s 552us/step - loss: 0.1914 - acc: 0.9310 - val_loss: 0.1151 - val_acc: 0.9610\n",
      "Epoch 4/10\n",
      "26265/26265 [==============================] - 16s 612us/step - loss: 0.1842 - acc: 0.9319 - val_loss: 0.0932 - val_acc: 0.9681\n",
      "Epoch 5/10\n",
      "26265/26265 [==============================] - 14s 537us/step - loss: 0.1783 - acc: 0.9356 - val_loss: 0.1114 - val_acc: 0.9613\n",
      "Epoch 6/10\n",
      "26265/26265 [==============================] - 13s 508us/step - loss: 0.1821 - acc: 0.9335 - val_loss: 0.1781 - val_acc: 0.9311\n",
      "Epoch 7/10\n",
      "26265/26265 [==============================] - 16s 592us/step - loss: 0.1767 - acc: 0.9349 - val_loss: 0.1015 - val_acc: 0.9661\n",
      "Epoch 8/10\n",
      "26265/26265 [==============================] - 15s 563us/step - loss: 0.1703 - acc: 0.9368 - val_loss: 0.0882 - val_acc: 0.9703\n",
      "Epoch 9/10\n",
      "26265/26265 [==============================] - 17s 641us/step - loss: 0.1730 - acc: 0.9350 - val_loss: 0.1091 - val_acc: 0.9622\n",
      "Epoch 10/10\n",
      "26265/26265 [==============================] - 15s 585us/step - loss: 0.1715 - acc: 0.9363 - val_loss: 0.0896 - val_acc: 0.9708\n"
     ]
    }
   ],
   "source": [
    "nb_epoch = 10\n",
    "\n",
    "hist = model.fit(X_train, Y_train, batch_size=batch_size,\n",
    "                 epochs=nb_epoch, verbose = 1,\n",
    "                 validation_data=(X_test, Y_test))"
   ]
  },
  {
   "cell_type": "code",
   "execution_count": 17,
   "metadata": {},
   "outputs": [
    {
     "data": {
      "text/plain": [
       "<matplotlib.legend.Legend at 0x21c1e379f60>"
      ]
     },
     "execution_count": 17,
     "metadata": {},
     "output_type": "execute_result"
    },
    {
     "data": {
      "image/png": "[encoded data removed]",
      "text/plain": [
       "<matplotlib.figure.Figure at 0x21c1dfc13c8>"
      ]
     },
     "metadata": {},
     "output_type": "display_data"
    },
    {
     "data": {
      "image/png": "[encoded data removed]",
      "text/plain": [
       "<matplotlib.figure.Figure at 0x21c1e330d68>"
      ]
     },
     "metadata": {},
     "output_type": "display_data"
    }
   ],
   "source": [
    "plt.figure()\n",
    "plt.xlabel('Epochs')\n",
    "plt.ylabel('Loss')\n",
    "plt.plot(hist.history['loss'])\n",
    "plt.plot(hist.history['val_loss'])\n",
    "plt.legend(['Training', 'Validation'])\n",
    "\n",
    "plt.figure()\n",
    "plt.xlabel('Epochs')\n",
    "plt.ylabel('Accuracy')\n",
    "plt.plot(hist.history['acc'])\n",
    "plt.plot(hist.history['val_acc'])\n",
    "plt.legend(['Training', 'Validation'], loc='lower right')"
   ]
  },
  {
   "cell_type": "code",
   "execution_count": 18,
   "metadata": {},
   "outputs": [
    {
     "data": {
      "text/plain": [
       "{'acc': [0.92339615459422164,\n",
       "  0.92731772322167272,\n",
       "  0.93097277744007456,\n",
       "  0.93192461452188202,\n",
       "  0.93557966874028398,\n",
       "  0.93348562727649853,\n",
       "  0.93493241956976969,\n",
       "  0.93679802017440661,\n",
       "  0.93504664003111493,\n",
       "  0.93626499143346664],\n",
       " 'loss': [0.21425025290462962,\n",
       "  0.20281239213113805,\n",
       "  0.19136098246222197,\n",
       "  0.18424954721808728,\n",
       "  0.1782729564667565,\n",
       "  0.18206596043866496,\n",
       "  0.17666798547894619,\n",
       "  0.170260995699069,\n",
       "  0.17302645512553549,\n",
       "  0.17151711565727293],\n",
       " 'val_acc': [0.96589999999999998,\n",
       "  0.85999999999999999,\n",
       "  0.96099999999999997,\n",
       "  0.96809999999999996,\n",
       "  0.96130000000000004,\n",
       "  0.93110000000000004,\n",
       "  0.96609999999999996,\n",
       "  0.97030000000000005,\n",
       "  0.96220000000000006,\n",
       "  0.9708],\n",
       " 'val_loss': [0.10681114669442177,\n",
       "  0.32730001373291018,\n",
       "  0.11514997086822987,\n",
       "  0.093234038987755771,\n",
       "  0.11139444959759712,\n",
       "  0.17805426739454269,\n",
       "  0.10146318856552243,\n",
       "  0.08821372292786836,\n",
       "  0.10907907712161541,\n",
       "  0.089627389813959596]}"
      ]
     },
     "execution_count": 18,
     "metadata": {},
     "output_type": "execute_result"
    }
   ],
   "source": [
    "hist.history"
   ]
  },
  {
   "cell_type": "code",
   "execution_count": 19,
   "metadata": {},
   "outputs": [
    {
     "name": "stdout",
     "output_type": "stream",
     "text": [
      "Test Loss:  0.0896273900867\n",
      "Test Accuracy:  0.9708\n"
     ]
    }
   ],
   "source": [
    "loss, accuracy = model.evaluate(X_test, Y_test, verbose=0)\n",
    "print('Test Loss: ', loss)\n",
    "print('Test Accuracy: ', accuracy)"
   ]
  },
  {
   "cell_type": "markdown",
   "metadata": {},
   "source": [
    "As we change nb_epochs to 10, our accuracy increases significantly, and our loss function decreases significantly"
   ]
  },
  {
   "cell_type": "code",
   "execution_count": 20,
   "metadata": {},
   "outputs": [
    {
     "data": {
      "image/png": "[encoded data removed]",
      "text/plain": [
       "<matplotlib.figure.Figure at 0x21c1df1ed68>"
      ]
     },
     "metadata": {},
     "output_type": "display_data"
    }
   ],
   "source": [
    "slice = 15\n",
    "predicted = model.predict(X_test[:slice]).argmax(-1)\n",
    "plt.figure(figsize = (16,8))\n",
    "for i in range(slice):\n",
    "    plt.subplot(1, slice, i+1)\n",
    "    plt.imshow(X_test_orig[i], interpolation='nearest')\n",
    "    plt.text(0,0,predicted[i], color='black',\n",
    "             bbox=dict(facecolor='white', alpha=1))\n",
    "    plt.axis('off')"
   ]
  },
  {
   "cell_type": "markdown",
   "metadata": {},
   "source": [
    "Now, the model does everything correctly!"
   ]
  },
  {
   "cell_type": "markdown",
   "metadata": {
    "slideshow": {
     "slide_type": "slide"
    }
   },
   "source": [
    "### Train a more complicated CNN (CNN, model 2)\n",
    "\n",
    "Now, we will define a more complicated CNN architecture."
   ]
  },
  {
   "cell_type": "code",
   "execution_count": 21,
   "metadata": {
    "slideshow": {
     "slide_type": "subslide"
    }
   },
   "outputs": [],
   "source": [
    "model = Sequential()\n",
    "model.add(Conv2D(nb_filters, (nb_conv, nb_conv),\n",
    "                 padding='valid', input_shape=shape_ord))\n",
    "model.add(Activation('relu'))\n",
    "model.add(MaxPooling2D(pool_size=(nb_pool, nb_pool)))\n",
    "model.add(Flatten())\n",
    "model.add(Dense(128))\n",
    "model.add(Activation('relu'))\n",
    "\n",
    "model.add(Dense(nb_classes))\n",
    "model.add(Activation('softmax'))"
   ]
  },
  {
   "cell_type": "code",
   "execution_count": 22,
   "metadata": {},
   "outputs": [
    {
     "name": "stdout",
     "output_type": "stream",
     "text": [
      "_________________________________________________________________\n",
      "Layer (type)                 Output Shape              Param #   \n",
      "=================================================================\n",
      "conv2d_2 (Conv2D)            (None, 26, 26, 32)        320       \n",
      "_________________________________________________________________\n",
      "activation_3 (Activation)    (None, 26, 26, 32)        0         \n",
      "_________________________________________________________________\n",
      "max_pooling2d_2 (MaxPooling2 (None, 13, 13, 32)        0         \n",
      "_________________________________________________________________\n",
      "flatten_2 (Flatten)          (None, 5408)              0         \n",
      "_________________________________________________________________\n",
      "dense_2 (Dense)              (None, 128)               692352    \n",
      "_________________________________________________________________\n",
      "activation_4 (Activation)    (None, 128)               0         \n",
      "_________________________________________________________________\n",
      "dense_3 (Dense)              (None, 2)                 258       \n",
      "_________________________________________________________________\n",
      "activation_5 (Activation)    (None, 2)                 0         \n",
      "=================================================================\n",
      "Total params: 692,930\n",
      "Trainable params: 692,930\n",
      "Non-trainable params: 0\n",
      "_________________________________________________________________\n"
     ]
    }
   ],
   "source": [
    "model.summary()"
   ]
  },
  {
   "cell_type": "code",
   "execution_count": 23,
   "metadata": {
    "slideshow": {
     "slide_type": "subslide"
    }
   },
   "outputs": [
    {
     "name": "stdout",
     "output_type": "stream",
     "text": [
      "Train on 26265 samples, validate on 10000 samples\n",
      "Epoch 1/10\n",
      "26265/26265 [==============================] - 23s 895us/step - loss: 0.1961 - acc: 0.9274 - val_loss: 0.0920 - val_acc: 0.9724\n",
      "Epoch 2/10\n",
      "26265/26265 [==============================] - 24s 925us/step - loss: 0.0921 - acc: 0.9693 - val_loss: 0.0630 - val_acc: 0.9804\n",
      "Epoch 3/10\n",
      "26265/26265 [==============================] - 24s 929us/step - loss: 0.0807 - acc: 0.9730 - val_loss: 0.0693 - val_acc: 0.9774\n",
      "Epoch 4/10\n",
      "26265/26265 [==============================] - 24s 922us/step - loss: 0.0745 - acc: 0.9754 - val_loss: 0.0683 - val_acc: 0.9776\n",
      "Epoch 5/10\n",
      "26265/26265 [==============================] - 24s 922us/step - loss: 0.0697 - acc: 0.9768 - val_loss: 0.0664 - val_acc: 0.9779\n",
      "Epoch 6/10\n",
      "26265/26265 [==============================] - 26s 1ms/step - loss: 0.0659 - acc: 0.9784 - val_loss: 0.0511 - val_acc: 0.9841\n",
      "Epoch 7/10\n",
      "26265/26265 [==============================] - 23s 876us/step - loss: 0.0624 - acc: 0.9796 - val_loss: 0.0509 - val_acc: 0.9847\n",
      "Epoch 8/10\n",
      "26265/26265 [==============================] - 25s 941us/step - loss: 0.0595 - acc: 0.9810 - val_loss: 0.0509 - val_acc: 0.9835\n",
      "Epoch 9/10\n",
      "26265/26265 [==============================] - 27s 1ms/step - loss: 0.0566 - acc: 0.9821 - val_loss: 0.0485 - val_acc: 0.9846\n",
      "Epoch 10/10\n",
      "26265/26265 [==============================] - 25s 935us/step - loss: 0.0539 - acc: 0.9833 - val_loss: 0.0403 - val_acc: 0.9875\n"
     ]
    },
    {
     "data": {
      "text/plain": [
       "<keras.callbacks.History at 0x21c19060978>"
      ]
     },
     "execution_count": 23,
     "metadata": {},
     "output_type": "execute_result"
    }
   ],
   "source": [
    "model.compile(loss='categorical_crossentropy',\n",
    "              optimizer='sgd',\n",
    "              metrics=['accuracy'])\n",
    "\n",
    "model.fit(X_train, Y_train, batch_size=batch_size, \n",
    "          epochs=nb_epoch,verbose=1,\n",
    "          validation_data=(X_test, Y_test))"
   ]
  },
  {
   "cell_type": "code",
   "execution_count": 24,
   "metadata": {
    "slideshow": {
     "slide_type": "subslide"
    }
   },
   "outputs": [
    {
     "name": "stdout",
     "output_type": "stream",
     "text": [
      "Test score: 0.0402682965007\n",
      "Test accuracy: 0.9875\n"
     ]
    }
   ],
   "source": [
    "#Evaluating the model on the test data    \n",
    "score, accuracy = model.evaluate(X_test, Y_test, verbose=0)\n",
    "print('Test score:', score)\n",
    "print('Test accuracy:', accuracy)"
   ]
  },
  {
   "cell_type": "code",
   "execution_count": 25,
   "metadata": {},
   "outputs": [
    {
     "data": {
      "image/png": "[encoded data removed]",
      "text/plain": [
       "<matplotlib.figure.Figure at 0x21c1e69cbe0>"
      ]
     },
     "metadata": {},
     "output_type": "display_data"
    }
   ],
   "source": [
    "slice = 15\n",
    "predicted = model.predict(X_test[:slice]).argmax(-1)\n",
    "\n",
    "plt.figure(figsize=(16,8))\n",
    "for i in range(slice):\n",
    "    plt.subplot(1, slice, i+1)\n",
    "    plt.imshow(X_test_orig[i], interpolation='nearest')\n",
    "    plt.text(0, 0, predicted[i], color='black', \n",
    "             bbox=dict(facecolor='white', alpha=1))\n",
    "    plt.axis('off')"
   ]
  },
  {
   "cell_type": "markdown",
   "metadata": {},
   "source": [
    "This model has a little bit higher in accuracy than the previous model, both using nb_epoch = 10. "
   ]
  },
  {
   "cell_type": "markdown",
   "metadata": {},
   "source": [
    "**Question 5.** Can you explain the architecture of this CNN (model 2) and how is it different from the first CNN you trained (model 1)? Compare their performance by looking at the visualizstions."
   ]
  },
  {
   "cell_type": "code",
   "execution_count": 26,
   "metadata": {},
   "outputs": [
    {
     "name": "stdout",
     "output_type": "stream",
     "text": [
      "_________________________________________________________________\n",
      "Layer (type)                 Output Shape              Param #   \n",
      "=================================================================\n",
      "conv2d_2 (Conv2D)            (None, 26, 26, 32)        320       \n",
      "_________________________________________________________________\n",
      "activation_3 (Activation)    (None, 26, 26, 32)        0         \n",
      "_________________________________________________________________\n",
      "max_pooling2d_2 (MaxPooling2 (None, 13, 13, 32)        0         \n",
      "_________________________________________________________________\n",
      "flatten_2 (Flatten)          (None, 5408)              0         \n",
      "_________________________________________________________________\n",
      "dense_2 (Dense)              (None, 128)               692352    \n",
      "_________________________________________________________________\n",
      "activation_4 (Activation)    (None, 128)               0         \n",
      "_________________________________________________________________\n",
      "dense_3 (Dense)              (None, 2)                 258       \n",
      "_________________________________________________________________\n",
      "activation_5 (Activation)    (None, 2)                 0         \n",
      "=================================================================\n",
      "Total params: 692,930\n",
      "Trainable params: 692,930\n",
      "Non-trainable params: 0\n",
      "_________________________________________________________________\n"
     ]
    }
   ],
   "source": [
    "model.summary()"
   ]
  },
  {
   "cell_type": "markdown",
   "metadata": {},
   "source": [
    "Unlike model 1, which has 6 layers, this model has 8 layers! The first 2 layers are similar to the first two layers in model 1. However, in the third layer, instead of using pool_size = (26,26), we use pool_size = (nb_pool,nb_pool) where nb_pool = 2, as a result, we end up having output shape of 13 by 13 by 32. Flattenning the pooling result gives a result of size 5408 (=13 x 13 x 32). Our fifth layer takes result of flatten as input and gives an output of size 128, so we end up having 692352 parameters (= 128 * 5408). We use dense_2's output as input for the sixth layer. In the seventh layer, we take it result of dense and produces an output of size nb_classes = 2, so we end up having 258 parameters. Our last layer takes the result of dense_3, and applies softmax regression to obtain the probability. There are two main difference in this model: 1. the number of layers, 2. the pool_size! Just like model 1 with nb_epoch = 10, model 2 does way better than model 1 with nb_epoch = 2"
   ]
  },
  {
   "cell_type": "code",
   "execution_count": 27,
   "metadata": {},
   "outputs": [
    {
     "data": {
      "text/plain": [
       "<matplotlib.legend.Legend at 0x21c24e12c50>"
      ]
     },
     "execution_count": 27,
     "metadata": {},
     "output_type": "execute_result"
    },
    {
     "data": {
      "image/png": "[encoded data removed]",
      "text/plain": [
       "<matplotlib.figure.Figure at 0x21c1eba4b38>"
      ]
     },
     "metadata": {},
     "output_type": "display_data"
    },
    {
     "data": {
      "image/png": "[encoded data removed]",
      "text/plain": [
       "<matplotlib.figure.Figure at 0x21c24d85c18>"
      ]
     },
     "metadata": {},
     "output_type": "display_data"
    }
   ],
   "source": [
    "plt.figure()\n",
    "plt.xlabel('Epochs')\n",
    "plt.ylabel('Loss')\n",
    "plt.plot(hist.history['loss'])\n",
    "plt.plot(hist.history['val_loss'])\n",
    "plt.legend(['Training', 'Validation'])\n",
    "\n",
    "plt.figure()\n",
    "plt.xlabel('Epochs')\n",
    "plt.ylabel('Accuracy')\n",
    "plt.plot(hist.history['acc'])\n",
    "plt.plot(hist.history['val_acc'])\n",
    "plt.legend(['Training', 'Validation'], loc='lower right')"
   ]
  },
  {
   "cell_type": "markdown",
   "metadata": {},
   "source": [
    "### Adding more convolutional layers and MaxPooling layers (CNN, model 3)\n",
    "\n",
    "Now, we will define an even more complicated CNN architecture."
   ]
  },
  {
   "cell_type": "code",
   "execution_count": 28,
   "metadata": {},
   "outputs": [],
   "source": [
    "model = Sequential()\n",
    "model.add(Conv2D(nb_filters, (nb_conv, nb_conv),\n",
    "                 padding='valid', input_shape=shape_ord))\n",
    "model.add(Activation('relu'))\n",
    "model.add(MaxPooling2D(pool_size=(nb_pool, nb_pool)))\n",
    "model.add(Conv2D(nb_filters, (nb_conv, nb_conv), \n",
    "                 padding='valid'))\n",
    "model.add(MaxPooling2D(pool_size=(nb_pool, nb_pool)))\n",
    "model.add(Flatten())\n",
    "model.add(Dense(nb_classes))\n",
    "model.add(Activation('softmax'))"
   ]
  },
  {
   "cell_type": "code",
   "execution_count": 29,
   "metadata": {},
   "outputs": [
    {
     "name": "stdout",
     "output_type": "stream",
     "text": [
      "_________________________________________________________________\n",
      "Layer (type)                 Output Shape              Param #   \n",
      "=================================================================\n",
      "conv2d_3 (Conv2D)            (None, 26, 26, 32)        320       \n",
      "_________________________________________________________________\n",
      "activation_6 (Activation)    (None, 26, 26, 32)        0         \n",
      "_________________________________________________________________\n",
      "max_pooling2d_3 (MaxPooling2 (None, 13, 13, 32)        0         \n",
      "_________________________________________________________________\n",
      "conv2d_4 (Conv2D)            (None, 11, 11, 32)        9248      \n",
      "_________________________________________________________________\n",
      "max_pooling2d_4 (MaxPooling2 (None, 5, 5, 32)          0         \n",
      "_________________________________________________________________\n",
      "flatten_3 (Flatten)          (None, 800)               0         \n",
      "_________________________________________________________________\n",
      "dense_4 (Dense)              (None, 2)                 1602      \n",
      "_________________________________________________________________\n",
      "activation_7 (Activation)    (None, 2)                 0         \n",
      "=================================================================\n",
      "Total params: 11,170\n",
      "Trainable params: 11,170\n",
      "Non-trainable params: 0\n",
      "_________________________________________________________________\n"
     ]
    }
   ],
   "source": [
    "model.summary()"
   ]
  },
  {
   "cell_type": "code",
   "execution_count": 30,
   "metadata": {},
   "outputs": [
    {
     "name": "stdout",
     "output_type": "stream",
     "text": [
      "Train on 26265 samples, validate on 10000 samples\n",
      "Epoch 1/10\n",
      "26265/26265 [==============================] - 31s 1ms/step - loss: 0.2484 - acc: 0.9016 - val_loss: 0.0978 - val_acc: 0.9735\n",
      "Epoch 2/10\n",
      "26265/26265 [==============================] - 29s 1ms/step - loss: 0.1068 - acc: 0.9627 - val_loss: 0.0735 - val_acc: 0.9766\n",
      "Epoch 3/10\n",
      "26265/26265 [==============================] - 28s 1ms/step - loss: 0.0906 - acc: 0.9687 - val_loss: 0.0618 - val_acc: 0.9801\n",
      "Epoch 4/10\n",
      "26265/26265 [==============================] - 25s 958us/step - loss: 0.0826 - acc: 0.9717 - val_loss: 0.0882 - val_acc: 0.9671\n",
      "Epoch 5/10\n",
      "26265/26265 [==============================] - 25s 938us/step - loss: 0.0766 - acc: 0.9742 - val_loss: 0.0643 - val_acc: 0.9786\n",
      "Epoch 6/10\n",
      "26265/26265 [==============================] - 24s 914us/step - loss: 0.0720 - acc: 0.9762 - val_loss: 0.0680 - val_acc: 0.9759\n",
      "Epoch 7/10\n",
      "26265/26265 [==============================] - 26s 1ms/step - loss: 0.0682 - acc: 0.9769 - val_loss: 0.0474 - val_acc: 0.9857\n",
      "Epoch 8/10\n",
      "26265/26265 [==============================] - 29s 1ms/step - loss: 0.0650 - acc: 0.9786 - val_loss: 0.0463 - val_acc: 0.9854\n",
      "Epoch 9/10\n",
      "26265/26265 [==============================] - 25s 942us/step - loss: 0.0621 - acc: 0.9792 - val_loss: 0.0479 - val_acc: 0.9845\n",
      "Epoch 10/10\n",
      "26265/26265 [==============================] - 26s 1ms/step - loss: 0.0594 - acc: 0.9807 - val_loss: 0.0432 - val_acc: 0.9864\n"
     ]
    },
    {
     "data": {
      "text/plain": [
       "<keras.callbacks.History at 0x21c24e2fd30>"
      ]
     },
     "execution_count": 30,
     "metadata": {},
     "output_type": "execute_result"
    }
   ],
   "source": [
    "model.compile(loss='categorical_crossentropy',\n",
    "              optimizer='sgd',\n",
    "              metrics=['accuracy'])\n",
    "\n",
    "model.fit(X_train, Y_train, batch_size=batch_size, \n",
    "          epochs=nb_epoch,verbose=1,\n",
    "          validation_data=(X_test, Y_test))"
   ]
  },
  {
   "cell_type": "code",
   "execution_count": 31,
   "metadata": {},
   "outputs": [
    {
     "name": "stdout",
     "output_type": "stream",
     "text": [
      "Test score: 0.0431606476601\n",
      "Test accuracy: 0.9864\n"
     ]
    }
   ],
   "source": [
    "#Evaluating the model on the test data    \n",
    "score, accuracy = model.evaluate(X_test, Y_test, verbose=0)\n",
    "print('Test score:', score)\n",
    "print('Test accuracy:', accuracy)"
   ]
  },
  {
   "cell_type": "code",
   "execution_count": 32,
   "metadata": {},
   "outputs": [
    {
     "data": {
      "image/png": "[encoded data removed]",
      "text/plain": [
       "<matplotlib.figure.Figure at 0x21c24de9a58>"
      ]
     },
     "metadata": {},
     "output_type": "display_data"
    }
   ],
   "source": [
    "slice = 15\n",
    "predicted = model.predict(X_test[:slice]).argmax(-1)\n",
    "\n",
    "plt.figure(figsize=(16,8))\n",
    "for i in range(slice):\n",
    "    plt.subplot(1, slice, i+1)\n",
    "    plt.imshow(X_test_orig[i], interpolation='nearest')\n",
    "    plt.text(0, 0, predicted[i], color='black', \n",
    "             bbox=dict(facecolor='white', alpha=1))\n",
    "    plt.axis('off')"
   ]
  },
  {
   "cell_type": "markdown",
   "metadata": {},
   "source": [
    "Another 0.2 % lift from 97.8% to 98.0%. This model sees clearly \"9\" is different than \"7\"! "
   ]
  },
  {
   "cell_type": "markdown",
   "metadata": {},
   "source": [
    "### Wrapping all the code together and play with hyperparameters\n",
    "\n",
    "The code below wraps up the pieces of codes above into a single function and allows you to play with the hyperparameters by changing the arguments.\n"
   ]
  },
  {
   "cell_type": "code",
   "execution_count": 33,
   "metadata": {
    "slideshow": {
     "slide_type": "skip"
    }
   },
   "outputs": [],
   "source": [
    "# Function for constructing the convolution neural network\n",
    "# Feel free to add parameters, if you want\n",
    "\n",
    "def build_model(num_conv = 1, conv_activation = \"relu\", num_dense = 1, dense_activation  = \"relu\", \n",
    "               dropout = True, max_pooling = True):\n",
    "    \"\"\"\"\"\"\n",
    "    model = Sequential()\n",
    "    model.add(Conv2D(nb_filters, (nb_conv, nb_conv), \n",
    "                     padding='valid',\n",
    "                     input_shape=shape_ord))\n",
    "    model.add(Activation(conv_activation))\n",
    "    \n",
    "    for i in range(num_conv-1):\n",
    "        model.add(Conv2D(nb_filters, (nb_conv, nb_conv)))\n",
    "        model.add(Activation(conv_activation))\n",
    "        \n",
    "    if max_pooling is True:\n",
    "        model.add(MaxPooling2D(pool_size=(nb_pool, nb_pool)))\n",
    "        \n",
    "    if dropout is True:\n",
    "        model.add(Dropout(0.25))\n",
    "    \n",
    "    model.add(Flatten())\n",
    "\n",
    "    if dropout is True:\n",
    "        model.add(Dropout(0.5))\n",
    "    \n",
    "    for i in range(num_dense-1):\n",
    "        model.add(Dense(128))\n",
    "        model.add(Activation(dense_activation))\n",
    "        \n",
    "    model.add(Dense(nb_classes))\n",
    "    model.add(Activation('softmax'))\n",
    "    \n",
    "    model.compile(loss='categorical_crossentropy',\n",
    "              optimizer='sgd',\n",
    "              metrics=['accuracy'])\n",
    "\n",
    "    model.fit(X_train, Y_train, batch_size=batch_size, \n",
    "              epochs=nb_epoch,verbose=1,\n",
    "              validation_data=(X_test, Y_test))\n",
    "          \n",
    "\n",
    "    #Evaluating the model on the test data    \n",
    "    score, accuracy = model.evaluate(X_test, Y_test, verbose=0)\n",
    "    print(num_conv , 'convolutional layers,', num_dense, \"dense layers\")\n",
    "    if max_pooling: print(\"With max pooling\")\n",
    "    if dropout: print(\"With dropout\")\n",
    "    print('Test score:', score)\n",
    "    print('Test accuracy:', accuracy)\n",
    "    slice = 15\n",
    "    predicted = model.predict(X_test[:slice]).argmax(-1)\n",
    "\n",
    "    plt.figure(figsize=(16,8))\n",
    "    for i in range(slice):\n",
    "        plt.subplot(1, slice, i+1)\n",
    "        plt.imshow(X_test_orig[i], interpolation='nearest')\n",
    "        plt.text(0, 0, predicted[i], color='black', \n",
    "             bbox=dict(facecolor='white', alpha=1))\n",
    "        plt.axis('off')"
   ]
  },
  {
   "cell_type": "markdown",
   "metadata": {},
   "source": [
    "An example of running this function"
   ]
  },
  {
   "cell_type": "code",
   "execution_count": 34,
   "metadata": {},
   "outputs": [
    {
     "name": "stdout",
     "output_type": "stream",
     "text": [
      "Train on 26265 samples, validate on 10000 samples\n",
      "Epoch 1/10\n",
      "26265/26265 [==============================] - 25s 965us/step - loss: 0.2457 - acc: 0.9070 - val_loss: 0.0961 - val_acc: 0.9755\n",
      "Epoch 2/10\n",
      "26265/26265 [==============================] - 26s 991us/step - loss: 0.1240 - acc: 0.9569 - val_loss: 0.0754 - val_acc: 0.9786\n",
      "Epoch 3/10\n",
      "26265/26265 [==============================] - 25s 954us/step - loss: 0.1131 - acc: 0.9604 - val_loss: 0.0714 - val_acc: 0.9785\n",
      "Epoch 4/10\n",
      "26265/26265 [==============================] - 26s 982us/step - loss: 0.1066 - acc: 0.9622 - val_loss: 0.0716 - val_acc: 0.9792\n",
      "Epoch 5/10\n",
      "26265/26265 [==============================] - 26s 982us/step - loss: 0.1018 - acc: 0.9638 - val_loss: 0.0634 - val_acc: 0.9807\n",
      "Epoch 6/10\n",
      "26265/26265 [==============================] - 21s 793us/step - loss: 0.0978 - acc: 0.9652 - val_loss: 0.0597 - val_acc: 0.9825\n",
      "Epoch 7/10\n",
      "26265/26265 [==============================] - 21s 782us/step - loss: 0.0959 - acc: 0.9662 - val_loss: 0.0605 - val_acc: 0.9816\n",
      "Epoch 8/10\n",
      "26265/26265 [==============================] - 22s 823us/step - loss: 0.0920 - acc: 0.9671 - val_loss: 0.0640 - val_acc: 0.9805\n",
      "Epoch 9/10\n",
      "26265/26265 [==============================] - 26s 991us/step - loss: 0.0926 - acc: 0.9674 - val_loss: 0.0596 - val_acc: 0.9821\n",
      "Epoch 10/10\n",
      "26265/26265 [==============================] - 27s 1ms/step - loss: 0.0884 - acc: 0.9695 - val_loss: 0.0553 - val_acc: 0.9841\n",
      "1 convolutional layers, 1 dense layers\n",
      "With max pooling\n",
      "With dropout\n",
      "Test score: 0.0553405565985\n",
      "Test accuracy: 0.9841\n"
     ]
    },
    {
     "data": {
      "image/png": "[encoded data removed]",
      "text/plain": [
       "<matplotlib.figure.Figure at 0x21c24f1e748>"
      ]
     },
     "metadata": {},
     "output_type": "display_data"
    }
   ],
   "source": [
    "# Here is an example of running build_model() with default hyperparameters\n",
    "build_model()"
   ]
  },
  {
   "cell_type": "code",
   "execution_count": 35,
   "metadata": {},
   "outputs": [
    {
     "name": "stdout",
     "output_type": "stream",
     "text": [
      "Train on 26265 samples, validate on 10000 samples\n",
      "Epoch 1/10\n",
      "26265/26265 [==============================] - 135s 5ms/step - loss: 0.3006 - acc: 0.8691 - val_loss: 0.0766 - val_acc: 0.9763\n",
      "Epoch 2/10\n",
      "26265/26265 [==============================] - 130s 5ms/step - loss: 0.1158 - acc: 0.9583 - val_loss: 0.0573 - val_acc: 0.9819\n",
      "Epoch 3/10\n",
      "26265/26265 [==============================] - 129s 5ms/step - loss: 0.0934 - acc: 0.9679 - val_loss: 0.0552 - val_acc: 0.9826\n",
      "Epoch 4/10\n",
      "26265/26265 [==============================] - 120s 5ms/step - loss: 0.0802 - acc: 0.9723 - val_loss: 0.0466 - val_acc: 0.9846\n",
      "Epoch 5/10\n",
      "26265/26265 [==============================] - 131s 5ms/step - loss: 0.0700 - acc: 0.9769 - val_loss: 0.0396 - val_acc: 0.9867\n",
      "Epoch 6/10\n",
      "26265/26265 [==============================] - 127s 5ms/step - loss: 0.0626 - acc: 0.9800 - val_loss: 0.0356 - val_acc: 0.9877\n",
      "Epoch 7/10\n",
      "26265/26265 [==============================] - 130s 5ms/step - loss: 0.0580 - acc: 0.9807 - val_loss: 0.0342 - val_acc: 0.9892\n",
      "Epoch 8/10\n",
      "26265/26265 [==============================] - 137s 5ms/step - loss: 0.0530 - acc: 0.9830 - val_loss: 0.0298 - val_acc: 0.9907\n",
      "Epoch 9/10\n",
      "26265/26265 [==============================] - 123s 5ms/step - loss: 0.0494 - acc: 0.9846 - val_loss: 0.0282 - val_acc: 0.9913\n",
      "Epoch 10/10\n",
      "26265/26265 [==============================] - 121s 5ms/step - loss: 0.0455 - acc: 0.9850 - val_loss: 0.0274 - val_acc: 0.9914\n",
      "3 convolutional layers, 3 dense layers\n",
      "With max pooling\n",
      "With dropout\n",
      "Test score: 0.0273914851254\n",
      "Test accuracy: 0.9914\n"
     ]
    },
    {
     "data": {
      "image/png": "[encoded data removed]",
      "text/plain": [
       "<matplotlib.figure.Figure at 0x21c1e016358>"
      ]
     },
     "metadata": {},
     "output_type": "display_data"
    }
   ],
   "source": [
    "# Here is an example of running build_model() with new hyperparameters\n",
    "build_model(num_conv = 3, num_dense = 3)"
   ]
  },
  {
   "cell_type": "markdown",
   "metadata": {},
   "source": [
    "#### This result is the best so far, almost perfect! But it takes so long to run, so we won't simulate similar things again. I don't think my computer can get any better result than this model! a.k.a it would take very long for my computer to run build_model(num_conv = 4, num_dense = 4)"
   ]
  },
  {
   "cell_type": "code",
   "execution_count": 36,
   "metadata": {},
   "outputs": [
    {
     "name": "stdout",
     "output_type": "stream",
     "text": [
      "Train on 26265 samples, validate on 10000 samples\n",
      "Epoch 1/10\n",
      "26265/26265 [==============================] - 27s 1ms/step - loss: 0.2211 - acc: 0.9176 - val_loss: 0.0958 - val_acc: 0.9748\n",
      "Epoch 2/10\n",
      "26265/26265 [==============================] - 26s 1ms/step - loss: 0.1206 - acc: 0.9592 - val_loss: 0.0721 - val_acc: 0.9788\n",
      "Epoch 3/10\n",
      "26265/26265 [==============================] - 28s 1ms/step - loss: 0.1107 - acc: 0.9607 - val_loss: 0.0753 - val_acc: 0.9774\n",
      "Epoch 4/10\n",
      "26265/26265 [==============================] - 28s 1ms/step - loss: 0.1030 - acc: 0.9644 - val_loss: 0.0699 - val_acc: 0.9793\n",
      "Epoch 5/10\n",
      "26265/26265 [==============================] - 28s 1ms/step - loss: 0.0987 - acc: 0.9651 - val_loss: 0.0664 - val_acc: 0.9793\n",
      "Epoch 6/10\n",
      "26265/26265 [==============================] - 27s 1ms/step - loss: 0.0967 - acc: 0.9672 - val_loss: 0.0621 - val_acc: 0.9813\n",
      "Epoch 7/10\n",
      "26265/26265 [==============================] - 27s 1ms/step - loss: 0.0940 - acc: 0.9670 - val_loss: 0.0654 - val_acc: 0.9795\n",
      "Epoch 8/10\n",
      "26265/26265 [==============================] - 26s 976us/step - loss: 0.0923 - acc: 0.9679 - val_loss: 0.0614 - val_acc: 0.9809\n",
      "Epoch 9/10\n",
      "26265/26265 [==============================] - 27s 1ms/step - loss: 0.0922 - acc: 0.9687 - val_loss: 0.0600 - val_acc: 0.9818\n",
      "Epoch 10/10\n",
      "26265/26265 [==============================] - 26s 993us/step - loss: 0.0893 - acc: 0.9704 - val_loss: 0.0599 - val_acc: 0.9812\n",
      "1 convolutional layers, 1 dense layers\n",
      "With max pooling\n",
      "With dropout\n",
      "Test score: 0.0599318957381\n",
      "Test accuracy: 0.9812\n",
      "4min 33s ± 0 ns per loop (mean ± std. dev. of 1 run, 1 loop each)\n"
     ]
    },
    {
     "data": {
      "image/png": "[encoded data removed]",
      "text/plain": [
       "<matplotlib.figure.Figure at 0x21c284e9e10>"
      ]
     },
     "metadata": {},
     "output_type": "display_data"
    }
   ],
   "source": [
    "#Timing how long it takes to build the model and test it.\n",
    "%timeit -n1 -r1 build_model()"
   ]
  },
  {
   "cell_type": "markdown",
   "metadata": {},
   "source": [
    "**Question 6.** Try to change some of the **hyperparameters** without exploding the computational resources on your computer. \n",
    "What is the best accuracy you can get? How many parameters are there of each model? How long does the training take? Maybe increase the amount of data used? What does that do to the accuracy and training time? "
   ]
  },
  {
   "cell_type": "markdown",
   "metadata": {},
   "source": [
    "The number of parameters in all of these models equal to the number of parameters in build_model, which is 6. If we don't specify anything, that means we use the default paramters"
   ]
  },
  {
   "cell_type": "code",
   "execution_count": 38,
   "metadata": {},
   "outputs": [
    {
     "name": "stdout",
     "output_type": "stream",
     "text": [
      "Train on 26265 samples, validate on 10000 samples\n",
      "Epoch 1/10\n",
      "26265/26265 [==============================] - 18s 697us/step - loss: 0.2246 - acc: 0.9164 - val_loss: 0.0992 - val_acc: 0.9747\n",
      "Epoch 2/10\n",
      "26265/26265 [==============================] - 19s 741us/step - loss: 0.1062 - acc: 0.9653 - val_loss: 0.0716 - val_acc: 0.9792\n",
      "Epoch 3/10\n",
      "26265/26265 [==============================] - 20s 772us/step - loss: 0.0931 - acc: 0.9694 - val_loss: 0.0648 - val_acc: 0.9798\n",
      "Epoch 4/10\n",
      "26265/26265 [==============================] - 19s 729us/step - loss: 0.0874 - acc: 0.9709 - val_loss: 0.0640 - val_acc: 0.9808\n",
      "Epoch 5/10\n",
      "26265/26265 [==============================] - 18s 703us/step - loss: 0.0835 - acc: 0.9718 - val_loss: 0.0655 - val_acc: 0.9793\n",
      "Epoch 6/10\n",
      "26265/26265 [==============================] - 20s 756us/step - loss: 0.0809 - acc: 0.9725 - val_loss: 0.0642 - val_acc: 0.9801\n",
      "Epoch 7/10\n",
      "26265/26265 [==============================] - 23s 878us/step - loss: 0.0791 - acc: 0.9740 - val_loss: 0.0626 - val_acc: 0.9801\n",
      "Epoch 8/10\n",
      "26265/26265 [==============================] - 19s 708us/step - loss: 0.0774 - acc: 0.9745 - val_loss: 0.0615 - val_acc: 0.9807\n",
      "Epoch 9/10\n",
      "26265/26265 [==============================] - 18s 702us/step - loss: 0.0760 - acc: 0.9748 - val_loss: 0.0608 - val_acc: 0.9807\n",
      "Epoch 10/10\n",
      "26265/26265 [==============================] - 19s 735us/step - loss: 0.0748 - acc: 0.9751 - val_loss: 0.0624 - val_acc: 0.9799\n",
      "1 convolutional layers, 1 dense layers\n",
      "With max pooling\n",
      "Test score: 0.06241149447\n",
      "Test accuracy: 0.9799\n",
      "3min 18s ± 0 ns per loop (mean ± std. dev. of 1 run, 1 loop each)\n"
     ]
    },
    {
     "data": {
      "image/png": "[encoded data removed]",
      "text/plain": [
       "<matplotlib.figure.Figure at 0x21c286093c8>"
      ]
     },
     "metadata": {},
     "output_type": "display_data"
    }
   ],
   "source": [
    "%timeit -n1 -r1 build_model(dropout = False)"
   ]
  },
  {
   "cell_type": "markdown",
   "metadata": {},
   "source": [
    "So, now we can see the effectiveness of dropout. Without dropout, accuracy on training data is higher than in the case with dropout, but the accuracy of test data is lower than in the case with dropout. Dropout acts like a regularization technique, which prevents overfitting. We know that the following examples won't do better than our best case scenario build_model(num_conv =3, num_dense = 3), but let's see how far can it go!"
   ]
  },
  {
   "cell_type": "code",
   "execution_count": 39,
   "metadata": {},
   "outputs": [
    {
     "name": "stdout",
     "output_type": "stream",
     "text": [
      "Train on 26265 samples, validate on 10000 samples\n",
      "Epoch 1/10\n",
      "26265/26265 [==============================] - 82s 3ms/step - loss: 0.2358 - acc: 0.9023 - val_loss: 0.0698 - val_acc: 0.9797\n",
      "Epoch 2/10\n",
      "26265/26265 [==============================] - 82s 3ms/step - loss: 0.1116 - acc: 0.9601 - val_loss: 0.0587 - val_acc: 0.9823\n",
      "Epoch 3/10\n",
      "26265/26265 [==============================] - 83s 3ms/step - loss: 0.0986 - acc: 0.9663 - val_loss: 0.0586 - val_acc: 0.9820\n",
      "Epoch 4/10\n",
      "26265/26265 [==============================] - 87s 3ms/step - loss: 0.0886 - acc: 0.9698 - val_loss: 0.0509 - val_acc: 0.9848\n",
      "Epoch 5/10\n",
      "26265/26265 [==============================] - 80s 3ms/step - loss: 0.0788 - acc: 0.9733 - val_loss: 0.0558 - val_acc: 0.9825\n",
      "Epoch 6/10\n",
      "26265/26265 [==============================] - 75s 3ms/step - loss: 0.0749 - acc: 0.9746 - val_loss: 0.0467 - val_acc: 0.9858\n",
      "Epoch 7/10\n",
      "26265/26265 [==============================] - 78s 3ms/step - loss: 0.0687 - acc: 0.9769 - val_loss: 0.0415 - val_acc: 0.9871\n",
      "Epoch 8/10\n",
      "26265/26265 [==============================] - 77s 3ms/step - loss: 0.0639 - acc: 0.9790 - val_loss: 0.0430 - val_acc: 0.9869\n",
      "Epoch 9/10\n",
      "26265/26265 [==============================] - 83s 3ms/step - loss: 0.0608 - acc: 0.9803 - val_loss: 0.0381 - val_acc: 0.9888\n",
      "Epoch 10/10\n",
      "26265/26265 [==============================] - 77s 3ms/step - loss: 0.0573 - acc: 0.9816 - val_loss: 0.0347 - val_acc: 0.9896\n",
      "2 convolutional layers, 2 dense layers\n",
      "With max pooling\n",
      "With dropout\n",
      "Test score: 0.0346683431748\n",
      "Test accuracy: 0.9896\n",
      "13min 31s ± 0 ns per loop (mean ± std. dev. of 1 run, 1 loop each)\n"
     ]
    },
    {
     "data": {
      "image/png": "[encoded data removed]",
      "text/plain": [
       "<matplotlib.figure.Figure at 0x21c2a0bb8d0>"
      ]
     },
     "metadata": {},
     "output_type": "display_data"
    }
   ],
   "source": [
    "%timeit -n1 -r1 build_model(num_conv = 2, num_dense = 2)"
   ]
  },
  {
   "cell_type": "markdown",
   "metadata": {},
   "source": [
    "Very close to 0.99 accuracy!"
   ]
  },
  {
   "cell_type": "code",
   "execution_count": 44,
   "metadata": {},
   "outputs": [
    {
     "name": "stdout",
     "output_type": "stream",
     "text": [
      "(31265, 28, 28, 1) (10000, 28, 28, 1) (31265, 2) (10000, 2)\n"
     ]
    }
   ],
   "source": [
    "(X_train, y_train), (X_test, y_test) = mnist.load_data()\n",
    "X_test_orig = X_test\n",
    "\n",
    "# Select the subset from the train data for the sake of time.\n",
    "np.random.seed(1338)  # for reproducibilty!!\n",
    "# The subset is composed of all the examples where the digit is 7, and 20,000 examples are not 7.\\\n",
    "sevens = np.where(y_train == 7)[0].tolist()\n",
    "not_sevens = np.where(y_train != 7)[0].tolist()\n",
    "num_keepers = 25000\n",
    "not_sevens = np.random.choice(not_sevens, num_keepers, replace=False).tolist()\n",
    "\n",
    "subset = sevens + not_sevens\n",
    "np.random.shuffle(subset) # shuffle the input\n",
    "\n",
    "X_train = X_train[subset, :, :]\n",
    "y_train = y_train[subset]\n",
    "\n",
    "img_rows, img_cols = 28, 28\n",
    "\n",
    "if K.image_data_format() == 'channels_first':\n",
    "    shape_ord = (1, img_rows, img_cols)\n",
    "else:  # channel_last\n",
    "    shape_ord = (img_rows, img_cols, 1)\n",
    "\n",
    "# Normalize the images:\n",
    "\n",
    "X_train = X_train.reshape((X_train.shape[0],) + shape_ord)\n",
    "X_test = X_test.reshape((X_test.shape[0],) + shape_ord)\n",
    "\n",
    "X_train = X_train.astype('float32')\n",
    "X_test = X_test.astype('float32')\n",
    "\n",
    "X_train /= 255\n",
    "X_test /= 255\n",
    "\n",
    "# Create labels:\n",
    "\n",
    "# Converting the labels to binary classification(Seven =1,Not Seven=0)\n",
    "Y_train = (y_train == 7).astype(int)\n",
    "Y_test = (y_test == 7).astype(int)\n",
    "\n",
    "# Converting the classes to its binary categorical form\n",
    "nb_classes = 2\n",
    "Y_train = np_utils.to_categorical(Y_train, nb_classes)\n",
    "Y_test = np_utils.to_categorical(Y_test, nb_classes)\n",
    "print(X_train.shape, X_test.shape, Y_train.shape, Y_test.shape)"
   ]
  },
  {
   "cell_type": "code",
   "execution_count": 45,
   "metadata": {},
   "outputs": [
    {
     "name": "stdout",
     "output_type": "stream",
     "text": [
      "Train on 31265 samples, validate on 10000 samples\n",
      "Epoch 1/10\n",
      "31265/31265 [==============================] - 31s 1ms/step - loss: 0.2017 - acc: 0.9241 - val_loss: 0.0817 - val_acc: 0.9786\n",
      "Epoch 2/10\n",
      "31265/31265 [==============================] - 32s 1ms/step - loss: 0.1103 - acc: 0.9638 - val_loss: 0.0712 - val_acc: 0.9785\n",
      "Epoch 3/10\n",
      "31265/31265 [==============================] - 31s 991us/step - loss: 0.0984 - acc: 0.9664 - val_loss: 0.0688 - val_acc: 0.9798\n",
      "Epoch 4/10\n",
      "31265/31265 [==============================] - 30s 971us/step - loss: 0.0959 - acc: 0.9675 - val_loss: 0.0636 - val_acc: 0.9810\n",
      "Epoch 5/10\n",
      "31265/31265 [==============================] - 32s 1ms/step - loss: 0.0910 - acc: 0.9675 - val_loss: 0.0625 - val_acc: 0.9812\n",
      "Epoch 6/10\n",
      "31265/31265 [==============================] - 30s 967us/step - loss: 0.0878 - acc: 0.9706 - val_loss: 0.0605 - val_acc: 0.9823\n",
      "Epoch 7/10\n",
      "31265/31265 [==============================] - 32s 1ms/step - loss: 0.0871 - acc: 0.9706 - val_loss: 0.0573 - val_acc: 0.9834\n",
      "Epoch 8/10\n",
      "31265/31265 [==============================] - 31s 986us/step - loss: 0.0840 - acc: 0.9718 - val_loss: 0.0595 - val_acc: 0.9820\n",
      "Epoch 9/10\n",
      "31265/31265 [==============================] - 31s 995us/step - loss: 0.0832 - acc: 0.9721 - val_loss: 0.0562 - val_acc: 0.9833\n",
      "Epoch 10/10\n",
      "31265/31265 [==============================] - 31s 981us/step - loss: 0.0817 - acc: 0.9724 - val_loss: 0.0563 - val_acc: 0.9833\n",
      "1 convolutional layers, 1 dense layers\n",
      "With max pooling\n",
      "With dropout\n",
      "Test score: 0.0562902908921\n",
      "Test accuracy: 0.9833\n",
      "5min 14s ± 0 ns per loop (mean ± std. dev. of 1 run, 1 loop each)\n"
     ]
    },
    {
     "data": {
      "image/png": "[encoded data removed]",
      "text/plain": [
       "<matplotlib.figure.Figure at 0x21c2bed79e8>"
      ]
     },
     "metadata": {},
     "output_type": "display_data"
    }
   ],
   "source": [
    "%timeit -n1 -r1 build_model()"
   ]
  },
  {
   "cell_type": "markdown",
   "metadata": {},
   "source": [
    "By increasing training data by 5000, we get a slightly better result! If we rerun build_model(num_conv = 3, num_dense = 3) then we may have an even higher result, but I think it would takes very long for my computer to run!"
   ]
  },
  {
   "cell_type": "markdown",
   "metadata": {},
   "source": [
    "#### Question 7 (20% of the grade)\n",
    "\n",
    "Can you train a model to output 10 classes instead of 2 binary classes? We can use this model to classify images into 10 digits of the mnist data set. Again, we will only train our model on a subset of the training data. The following steps will help you to build such a model.\n",
    "\n",
    "    * 1. Select 20,000 examples randomly from X_train, since we want all 10 digits present in our training data.\n",
    "    * 2. Convert Y_train and Y_test to categorical.\n",
    "    * 3. Call the build_model() on the X_train and Y_train."
   ]
  },
  {
   "cell_type": "code",
   "execution_count": 52,
   "metadata": {},
   "outputs": [],
   "source": [
    "(X_train, y_train), (X_test, y_test) = mnist.load_data()\n",
    "X_test_orig = X_test\n",
    "\n",
    "randomEx = np.random.choice(X_train.shape[0], 20000).tolist()\n",
    "X_train = X_train[randomEx, :, :]\n",
    "Y_train = y_train[randomEx]\n",
    "\n",
    "nb_classes = 10\n",
    "Y_train = np_utils.to_categorical(y_train, nb_classes)\n",
    "Y_test = np_utils.to_categorical(y_test, nb_classes)\n",
    "\n",
    "\n",
    "img_rows, img_cols = 28, 28\n",
    "\n",
    "if K.image_data_format() == 'channels_first':\n",
    "    shape_ord = (1, img_rows, img_cols)\n",
    "else:  # channel_last\n",
    "    shape_ord = (img_rows, img_cols, 1)\n",
    "\n",
    "# Normalize the images:\n",
    "\n",
    "X_train = X_train.reshape((X_train.shape[0],) + shape_ord)\n",
    "X_test = X_test.reshape((X_test.shape[0],) + shape_ord)\n",
    "\n",
    "X_train = X_train.astype('float32')\n",
    "X_test = X_test.astype('float32')\n",
    "\n",
    "X_train /= 255\n",
    "X_test /= 255"
   ]
  },
  {
   "cell_type": "code",
   "execution_count": 53,
   "metadata": {},
   "outputs": [
    {
     "name": "stdout",
     "output_type": "stream",
     "text": [
      "(20000, 28, 28, 1) (10000, 28, 28, 1) (20000, 10) (10000, 10)\n"
     ]
    }
   ],
   "source": [
    "print(X_train.shape, X_test.shape, Y_train.shape, Y_test.shape)"
   ]
  },
  {
   "cell_type": "code",
   "execution_count": 57,
   "metadata": {},
   "outputs": [
    {
     "name": "stdout",
     "output_type": "stream",
     "text": [
      "Train on 20000 samples, validate on 10000 samples\n",
      "Epoch 1/10\n",
      "20000/20000 [==============================] - 21s 1ms/step - loss: 1.3647 - acc: 0.6186 - val_loss: 0.5592 - val_acc: 0.8557\n",
      "Epoch 2/10\n",
      "20000/20000 [==============================] - 20s 1ms/step - loss: 0.5720 - acc: 0.8262 - val_loss: 0.4039 - val_acc: 0.8867\n",
      "Epoch 3/10\n",
      "20000/20000 [==============================] - 21s 1ms/step - loss: 0.4850 - acc: 0.8518 - val_loss: 0.3722 - val_acc: 0.8938\n",
      "Epoch 4/10\n",
      "20000/20000 [==============================] - 20s 1ms/step - loss: 0.4473 - acc: 0.8628 - val_loss: 0.3508 - val_acc: 0.8977\n",
      "Epoch 5/10\n",
      "20000/20000 [==============================] - 20s 1ms/step - loss: 0.4276 - acc: 0.8677 - val_loss: 0.3340 - val_acc: 0.9061\n",
      "Epoch 6/10\n",
      "20000/20000 [==============================] - 21s 1ms/step - loss: 0.4115 - acc: 0.8731 - val_loss: 0.3236 - val_acc: 0.9085\n",
      "Epoch 7/10\n",
      "20000/20000 [==============================] - 23s 1ms/step - loss: 0.4004 - acc: 0.8760 - val_loss: 0.3131 - val_acc: 0.9135\n",
      "Epoch 8/10\n",
      "20000/20000 [==============================] - 21s 1ms/step - loss: 0.3871 - acc: 0.8826 - val_loss: 0.3098 - val_acc: 0.9140\n",
      "Epoch 9/10\n",
      "20000/20000 [==============================] - 21s 1ms/step - loss: 0.3836 - acc: 0.8827 - val_loss: 0.3037 - val_acc: 0.9147\n",
      "Epoch 10/10\n",
      "20000/20000 [==============================] - 22s 1ms/step - loss: 0.3710 - acc: 0.8853 - val_loss: 0.3023 - val_acc: 0.9158\n",
      "1 convolutional layers, 1 dense layers\n",
      "With max pooling\n",
      "With dropout\n",
      "Test score: 0.302297812253\n",
      "Test accuracy: 0.9158\n"
     ]
    },
    {
     "data": {
      "image/png": "[encoded data removed]",
      "text/plain": [
       "<matplotlib.figure.Figure at 0x21c1d5fb400>"
      ]
     },
     "metadata": {},
     "output_type": "display_data"
    }
   ],
   "source": [
    "build_model()"
   ]
  },
  {
   "cell_type": "markdown",
   "metadata": {},
   "source": [
    "The result is fairly good! We can definitely do better if we use more data and make our model more complex (like the build_model(num_conv = 3, num_dense = 3))"
   ]
  },
  {
   "cell_type": "markdown",
   "metadata": {},
   "source": [
    "#### Question 8 (30% of the grade) \n",
    "\n",
    "Train a model on CIFAR10 dataset, which is described in https://www.cs.toronto.edu/~kriz/cifar.html. You can load the dataset from Keras, too. CIFAR10 small image classification contains 50,000 32x32 color training images, labeled over 10 categories, and 10,000 test images.\n",
    "\n",
    "```python\n",
    "from keras.datasets import cifar10\n",
    "(x_train, y_train), (x_test, y_test) = cifar10.load_data()\n",
    "```\n",
    "\n",
    "Again, we will only train our model on a subset of the training data. The following steps will help you to build such a model.\n",
    "\n",
    "    * 1. Select 20,000 examples randomly from X_train, since we want all 10 categories present in our training data.\n",
    "    * 2. Convert Y_train and Y_test to categorical.\n",
    "    * 3. Call the build_model() on the X_train and Y_train."
   ]
  },
  {
   "cell_type": "code",
   "execution_count": 68,
   "metadata": {},
   "outputs": [],
   "source": [
    "from keras.datasets import cifar10\n",
    "(x_train, y_train), (x_test, y_test) = cifar10.load_data()\n",
    "X_test_orig = x_test\n",
    "\n",
    "randomEx = np.random.choice(x_train.shape[0], 20000).tolist()\n",
    "X_train = x_train[randomEx, :, :]\n",
    "X_test = x_test\n",
    "Y_train = y_train[randomEx]\n",
    "\n",
    "nb_classes = 10\n",
    "Y_train = np_utils.to_categorical(Y_train, nb_classes)\n",
    "Y_test = np_utils.to_categorical(y_test, nb_classes)"
   ]
  },
  {
   "cell_type": "code",
   "execution_count": 69,
   "metadata": {},
   "outputs": [
    {
     "name": "stdout",
     "output_type": "stream",
     "text": [
      "(20000, 32, 32, 3) (10000, 32, 32, 3) (20000, 10) (10000, 10)\n"
     ]
    }
   ],
   "source": [
    "print(X_train.shape, X_test.shape, Y_train.shape, Y_test.shape)"
   ]
  },
  {
   "cell_type": "code",
   "execution_count": 70,
   "metadata": {},
   "outputs": [
    {
     "name": "stdout",
     "output_type": "stream",
     "text": [
      "255 255 1.0 1.0\n",
      "0 0 0.0 0.0\n"
     ]
    }
   ],
   "source": [
    "print(X_train.max(), X_test.max(), Y_train.max(), Y_test.max())\n",
    "print(X_train.min(), X_test.min(), Y_train.min(), Y_test.min())"
   ]
  },
  {
   "cell_type": "code",
   "execution_count": 71,
   "metadata": {},
   "outputs": [],
   "source": [
    "X_train = X_train.astype('float32')\n",
    "X_test = X_test.astype('float32')\n",
    "\n",
    "X_train /= 255\n",
    "X_test /= 255"
   ]
  },
  {
   "cell_type": "code",
   "execution_count": 72,
   "metadata": {},
   "outputs": [
    {
     "name": "stdout",
     "output_type": "stream",
     "text": [
      "(20000, 32, 32, 3) (10000, 32, 32, 3) (20000, 10) (10000, 10)\n"
     ]
    }
   ],
   "source": [
    "print(X_train.shape, X_test.shape, Y_train.shape, Y_test.shape)"
   ]
  },
  {
   "cell_type": "code",
   "execution_count": 74,
   "metadata": {},
   "outputs": [],
   "source": [
    "shape_ord = (32, 32, 3)"
   ]
  },
  {
   "cell_type": "code",
   "execution_count": 75,
   "metadata": {},
   "outputs": [
    {
     "name": "stdout",
     "output_type": "stream",
     "text": [
      "Train on 20000 samples, validate on 10000 samples\n",
      "Epoch 1/10\n",
      "20000/20000 [==============================] - 85s 4ms/step - loss: 2.2409 - acc: 0.1593 - val_loss: 2.1072 - val_acc: 0.2012\n",
      "Epoch 2/10\n",
      "20000/20000 [==============================] - 83s 4ms/step - loss: 2.0212 - acc: 0.2628 - val_loss: 1.9027 - val_acc: 0.3390\n",
      "Epoch 3/10\n",
      "20000/20000 [==============================] - 85s 4ms/step - loss: 1.9003 - acc: 0.3213 - val_loss: 1.8202 - val_acc: 0.3605\n",
      "Epoch 4/10\n",
      "20000/20000 [==============================] - 85s 4ms/step - loss: 1.8016 - acc: 0.3584 - val_loss: 1.8762 - val_acc: 0.3417\n",
      "Epoch 5/10\n",
      "20000/20000 [==============================] - 89s 4ms/step - loss: 1.7098 - acc: 0.3908 - val_loss: 1.6730 - val_acc: 0.4049\n",
      "Epoch 6/10\n",
      "20000/20000 [==============================] - 82s 4ms/step - loss: 1.6372 - acc: 0.4114 - val_loss: 1.5633 - val_acc: 0.4418\n",
      "Epoch 7/10\n",
      "20000/20000 [==============================] - 82s 4ms/step - loss: 1.5796 - acc: 0.4284 - val_loss: 1.5496 - val_acc: 0.4350\n",
      "Epoch 8/10\n",
      "20000/20000 [==============================] - 87s 4ms/step - loss: 1.5300 - acc: 0.4490 - val_loss: 1.4714 - val_acc: 0.4756\n",
      "Epoch 9/10\n",
      "20000/20000 [==============================] - 85s 4ms/step - loss: 1.4898 - acc: 0.4603 - val_loss: 1.4401 - val_acc: 0.4781\n",
      "Epoch 10/10\n",
      "20000/20000 [==============================] - 83s 4ms/step - loss: 1.4474 - acc: 0.4801 - val_loss: 1.4253 - val_acc: 0.4903\n",
      "2 convolutional layers, 2 dense layers\n",
      "With max pooling\n",
      "With dropout\n",
      "Test score: 1.42531272335\n",
      "Test accuracy: 0.4903\n",
      "14min 18s ± 0 ns per loop (mean ± std. dev. of 1 run, 1 loop each)\n"
     ]
    },
    {
     "data": {
      "image/png": "[encoded data removed]",
      "text/plain": [
       "<matplotlib.figure.Figure at 0x21c2a14b128>"
      ]
     },
     "metadata": {},
     "output_type": "display_data"
    }
   ],
   "source": [
    "%timeit -n1 -r1 build_model(num_conv = 2, num_dense = 2)"
   ]
  },
  {
   "cell_type": "markdown",
   "metadata": {},
   "source": [
    "We achieve less than 50% accuracy! This result is still very far from a good result, so we may probably want to use all training examples, add more layers to the model (may have to use 4 convolution layers and 4 dense layers), and triple the number of epochs. As we can guess from the visual results: our model is confused between ship and airplane, dog and frog, automobile and airplane, cat and bird."
   ]
  }
 ],
 "metadata": {
  "anaconda-cloud": {},
  "kernelspec": {
   "display_name": "Python 3",
   "language": "python",
   "name": "python3"
  },
  "language_info": {
   "codemirror_mode": {
    "name": "ipython",
    "version": 3
   },
   "file_extension": ".py",
   "mimetype": "text/x-python",
   "name": "python",
   "nbconvert_exporter": "python",
   "pygments_lexer": "ipython3",
   "version": "3.6.5"
  }
 },
 "nbformat": 4,
 "nbformat_minor": 2
}
