{
 "cells": [
  {
   "cell_type": "markdown",
   "metadata": {},
   "source": [
    "# Lab 7: Supervised Learning - k-Nearest Neighbor (kNN) Algorithm \n",
    "\n",
    "In this lab, we will make first steps in doint supervised learning. in particular, we will learn about the k-Nearest Neighbor (kNN) algorithm. kNN uses a simple idea: \"you are what your neighbors are\". This idea work quite well in data science. In the first part of the lab, we will cover some background needed to understand the kNN algorithm. In the second part, you will be asked to apply your knowledge on another data set. \n",
    "\n",
    "## Lab 7.A: kNN Tutorial with Questions (50% of grade)\n",
    "\n",
    "As usual, let us start by importing the needed libraries. We will continue using the sklearn library, which implements many of the most popular data science algorithms. "
   ]
  },
  {
   "cell_type": "code",
   "execution_count": 1,
   "metadata": {
    "collapsed": true
   },
   "outputs": [],
   "source": [
    "import numpy as np\n",
    "import matplotlib.pyplot as plt\n",
    "from matplotlib.colors import ListedColormap\n",
    "from sklearn import neighbors, datasets"
   ]
  },
  {
   "cell_type": "markdown",
   "metadata": {},
   "source": [
    "Let us load the Iris data set using a sklearn function `load_iris`."
   ]
  },
  {
   "cell_type": "code",
   "execution_count": 2,
   "metadata": {
    "collapsed": true
   },
   "outputs": [],
   "source": [
    "iris = datasets.load_iris()"
   ]
  },
  {
   "cell_type": "markdown",
   "metadata": {},
   "source": [
    "As you can see from http://scikit-learn.org/stable/modules/generated/sklearn.datasets.load_iris.html, `iris` is an object with attributes `data` (a 150x4 matrix, where $i$-th row are 4 attributes of the $i$-th flower), `feature_names` (the names of the 4 attributes -- remember that in data science \"attribute\" and \"feature\" means the same thing), `target` (a vector of length 150, where $i$-th number is the type of the $i$-th flower -- in data science people often say \"label\" instead of \"target\"), `target_names` (these are strings explaining what each of the 3 types of flowers are), and `DESCR` (giving some information about the Iris data set). Let us list them all "
   ]
  },
  {
   "cell_type": "code",
   "execution_count": 3,
   "metadata": {},
   "outputs": [
    {
     "name": "stdout",
     "output_type": "stream",
     "text": [
      "Iris Plants Database\n",
      "====================\n",
      "\n",
      "Notes\n",
      "-----\n",
      "Data Set Characteristics:\n",
      "    :Number of Instances: 150 (50 in each of three classes)\n",
      "    :Number of Attributes: 4 numeric, predictive attributes and the class\n",
      "    :Attribute Information:\n",
      "        - sepal length in cm\n",
      "        - sepal width in cm\n",
      "        - petal length in cm\n",
      "        - petal width in cm\n",
      "        - class:\n",
      "                - Iris-Setosa\n",
      "                - Iris-Versicolour\n",
      "                - Iris-Virginica\n",
      "    :Summary Statistics:\n",
      "\n",
      "    ============== ==== ==== ======= ===== ====================\n",
      "                    Min  Max   Mean    SD   Class Correlation\n",
      "    ============== ==== ==== ======= ===== ====================\n",
      "    sepal length:   4.3  7.9   5.84   0.83    0.7826\n",
      "    sepal width:    2.0  4.4   3.05   0.43   -0.4194\n",
      "    petal length:   1.0  6.9   3.76   1.76    0.9490  (high!)\n",
      "    petal width:    0.1  2.5   1.20  0.76     0.9565  (high!)\n",
      "    ============== ==== ==== ======= ===== ====================\n",
      "\n",
      "    :Missing Attribute Values: None\n",
      "    :Class Distribution: 33.3% for each of 3 classes.\n",
      "    :Creator: R.A. Fisher\n",
      "    :Donor: Michael Marshall (MARSHALL%PLU@io.arc.nasa.gov)\n",
      "    :Date: July, 1988\n",
      "\n",
      "This is a copy of UCI ML iris datasets.\n",
      "http://archive.ics.uci.edu/ml/datasets/Iris\n",
      "\n",
      "The famous Iris database, first used by Sir R.A Fisher\n",
      "\n",
      "This is perhaps the best known database to be found in the\n",
      "pattern recognition literature.  Fisher's paper is a classic in the field and\n",
      "is referenced frequently to this day.  (See Duda & Hart, for example.)  The\n",
      "data set contains 3 classes of 50 instances each, where each class refers to a\n",
      "type of iris plant.  One class is linearly separable from the other 2; the\n",
      "latter are NOT linearly separable from each other.\n",
      "\n",
      "References\n",
      "----------\n",
      "   - Fisher,R.A. \"The use of multiple measurements in taxonomic problems\"\n",
      "     Annual Eugenics, 7, Part II, 179-188 (1936); also in \"Contributions to\n",
      "     Mathematical Statistics\" (John Wiley, NY, 1950).\n",
      "   - Duda,R.O., & Hart,P.E. (1973) Pattern Classification and Scene Analysis.\n",
      "     (Q327.D83) John Wiley & Sons.  ISBN 0-471-22361-1.  See page 218.\n",
      "   - Dasarathy, B.V. (1980) \"Nosing Around the Neighborhood: A New System\n",
      "     Structure and Classification Rule for Recognition in Partially Exposed\n",
      "     Environments\".  IEEE Transactions on Pattern Analysis and Machine\n",
      "     Intelligence, Vol. PAMI-2, No. 1, 67-71.\n",
      "   - Gates, G.W. (1972) \"The Reduced Nearest Neighbor Rule\".  IEEE Transactions\n",
      "     on Information Theory, May 1972, 431-433.\n",
      "   - See also: 1988 MLC Proceedings, 54-64.  Cheeseman et al\"s AUTOCLASS II\n",
      "     conceptual clustering system finds 3 classes in the data.\n",
      "   - Many, many more ...\n",
      "\n",
      "[[ 5.1  3.5  1.4  0.2]\n",
      " [ 4.9  3.   1.4  0.2]\n",
      " [ 4.7  3.2  1.3  0.2]\n",
      " [ 4.6  3.1  1.5  0.2]\n",
      " [ 5.   3.6  1.4  0.2]\n",
      " [ 5.4  3.9  1.7  0.4]\n",
      " [ 4.6  3.4  1.4  0.3]\n",
      " [ 5.   3.4  1.5  0.2]\n",
      " [ 4.4  2.9  1.4  0.2]\n",
      " [ 4.9  3.1  1.5  0.1]\n",
      " [ 5.4  3.7  1.5  0.2]\n",
      " [ 4.8  3.4  1.6  0.2]\n",
      " [ 4.8  3.   1.4  0.1]\n",
      " [ 4.3  3.   1.1  0.1]\n",
      " [ 5.8  4.   1.2  0.2]\n",
      " [ 5.7  4.4  1.5  0.4]\n",
      " [ 5.4  3.9  1.3  0.4]\n",
      " [ 5.1  3.5  1.4  0.3]\n",
      " [ 5.7  3.8  1.7  0.3]\n",
      " [ 5.1  3.8  1.5  0.3]\n",
      " [ 5.4  3.4  1.7  0.2]\n",
      " [ 5.1  3.7  1.5  0.4]\n",
      " [ 4.6  3.6  1.   0.2]\n",
      " [ 5.1  3.3  1.7  0.5]\n",
      " [ 4.8  3.4  1.9  0.2]\n",
      " [ 5.   3.   1.6  0.2]\n",
      " [ 5.   3.4  1.6  0.4]\n",
      " [ 5.2  3.5  1.5  0.2]\n",
      " [ 5.2  3.4  1.4  0.2]\n",
      " [ 4.7  3.2  1.6  0.2]\n",
      " [ 4.8  3.1  1.6  0.2]\n",
      " [ 5.4  3.4  1.5  0.4]\n",
      " [ 5.2  4.1  1.5  0.1]\n",
      " [ 5.5  4.2  1.4  0.2]\n",
      " [ 4.9  3.1  1.5  0.1]\n",
      " [ 5.   3.2  1.2  0.2]\n",
      " [ 5.5  3.5  1.3  0.2]\n",
      " [ 4.9  3.1  1.5  0.1]\n",
      " [ 4.4  3.   1.3  0.2]\n",
      " [ 5.1  3.4  1.5  0.2]\n",
      " [ 5.   3.5  1.3  0.3]\n",
      " [ 4.5  2.3  1.3  0.3]\n",
      " [ 4.4  3.2  1.3  0.2]\n",
      " [ 5.   3.5  1.6  0.6]\n",
      " [ 5.1  3.8  1.9  0.4]\n",
      " [ 4.8  3.   1.4  0.3]\n",
      " [ 5.1  3.8  1.6  0.2]\n",
      " [ 4.6  3.2  1.4  0.2]\n",
      " [ 5.3  3.7  1.5  0.2]\n",
      " [ 5.   3.3  1.4  0.2]\n",
      " [ 7.   3.2  4.7  1.4]\n",
      " [ 6.4  3.2  4.5  1.5]\n",
      " [ 6.9  3.1  4.9  1.5]\n",
      " [ 5.5  2.3  4.   1.3]\n",
      " [ 6.5  2.8  4.6  1.5]\n",
      " [ 5.7  2.8  4.5  1.3]\n",
      " [ 6.3  3.3  4.7  1.6]\n",
      " [ 4.9  2.4  3.3  1. ]\n",
      " [ 6.6  2.9  4.6  1.3]\n",
      " [ 5.2  2.7  3.9  1.4]\n",
      " [ 5.   2.   3.5  1. ]\n",
      " [ 5.9  3.   4.2  1.5]\n",
      " [ 6.   2.2  4.   1. ]\n",
      " [ 6.1  2.9  4.7  1.4]\n",
      " [ 5.6  2.9  3.6  1.3]\n",
      " [ 6.7  3.1  4.4  1.4]\n",
      " [ 5.6  3.   4.5  1.5]\n",
      " [ 5.8  2.7  4.1  1. ]\n",
      " [ 6.2  2.2  4.5  1.5]\n",
      " [ 5.6  2.5  3.9  1.1]\n",
      " [ 5.9  3.2  4.8  1.8]\n",
      " [ 6.1  2.8  4.   1.3]\n",
      " [ 6.3  2.5  4.9  1.5]\n",
      " [ 6.1  2.8  4.7  1.2]\n",
      " [ 6.4  2.9  4.3  1.3]\n",
      " [ 6.6  3.   4.4  1.4]\n",
      " [ 6.8  2.8  4.8  1.4]\n",
      " [ 6.7  3.   5.   1.7]\n",
      " [ 6.   2.9  4.5  1.5]\n",
      " [ 5.7  2.6  3.5  1. ]\n",
      " [ 5.5  2.4  3.8  1.1]\n",
      " [ 5.5  2.4  3.7  1. ]\n",
      " [ 5.8  2.7  3.9  1.2]\n",
      " [ 6.   2.7  5.1  1.6]\n",
      " [ 5.4  3.   4.5  1.5]\n",
      " [ 6.   3.4  4.5  1.6]\n",
      " [ 6.7  3.1  4.7  1.5]\n",
      " [ 6.3  2.3  4.4  1.3]\n",
      " [ 5.6  3.   4.1  1.3]\n",
      " [ 5.5  2.5  4.   1.3]\n",
      " [ 5.5  2.6  4.4  1.2]\n",
      " [ 6.1  3.   4.6  1.4]\n",
      " [ 5.8  2.6  4.   1.2]\n",
      " [ 5.   2.3  3.3  1. ]\n",
      " [ 5.6  2.7  4.2  1.3]\n",
      " [ 5.7  3.   4.2  1.2]\n",
      " [ 5.7  2.9  4.2  1.3]\n",
      " [ 6.2  2.9  4.3  1.3]\n",
      " [ 5.1  2.5  3.   1.1]\n",
      " [ 5.7  2.8  4.1  1.3]\n",
      " [ 6.3  3.3  6.   2.5]\n",
      " [ 5.8  2.7  5.1  1.9]\n",
      " [ 7.1  3.   5.9  2.1]\n",
      " [ 6.3  2.9  5.6  1.8]\n",
      " [ 6.5  3.   5.8  2.2]\n",
      " [ 7.6  3.   6.6  2.1]\n",
      " [ 4.9  2.5  4.5  1.7]\n",
      " [ 7.3  2.9  6.3  1.8]\n",
      " [ 6.7  2.5  5.8  1.8]\n",
      " [ 7.2  3.6  6.1  2.5]\n",
      " [ 6.5  3.2  5.1  2. ]\n",
      " [ 6.4  2.7  5.3  1.9]\n",
      " [ 6.8  3.   5.5  2.1]\n",
      " [ 5.7  2.5  5.   2. ]\n",
      " [ 5.8  2.8  5.1  2.4]\n",
      " [ 6.4  3.2  5.3  2.3]\n",
      " [ 6.5  3.   5.5  1.8]\n",
      " [ 7.7  3.8  6.7  2.2]\n",
      " [ 7.7  2.6  6.9  2.3]\n",
      " [ 6.   2.2  5.   1.5]\n",
      " [ 6.9  3.2  5.7  2.3]\n",
      " [ 5.6  2.8  4.9  2. ]\n",
      " [ 7.7  2.8  6.7  2. ]\n",
      " [ 6.3  2.7  4.9  1.8]\n",
      " [ 6.7  3.3  5.7  2.1]\n",
      " [ 7.2  3.2  6.   1.8]\n",
      " [ 6.2  2.8  4.8  1.8]\n",
      " [ 6.1  3.   4.9  1.8]\n",
      " [ 6.4  2.8  5.6  2.1]\n",
      " [ 7.2  3.   5.8  1.6]\n",
      " [ 7.4  2.8  6.1  1.9]\n",
      " [ 7.9  3.8  6.4  2. ]\n",
      " [ 6.4  2.8  5.6  2.2]\n",
      " [ 6.3  2.8  5.1  1.5]\n",
      " [ 6.1  2.6  5.6  1.4]\n",
      " [ 7.7  3.   6.1  2.3]\n",
      " [ 6.3  3.4  5.6  2.4]\n",
      " [ 6.4  3.1  5.5  1.8]\n",
      " [ 6.   3.   4.8  1.8]\n",
      " [ 6.9  3.1  5.4  2.1]\n",
      " [ 6.7  3.1  5.6  2.4]\n",
      " [ 6.9  3.1  5.1  2.3]\n",
      " [ 5.8  2.7  5.1  1.9]\n",
      " [ 6.8  3.2  5.9  2.3]\n",
      " [ 6.7  3.3  5.7  2.5]\n",
      " [ 6.7  3.   5.2  2.3]\n",
      " [ 6.3  2.5  5.   1.9]\n",
      " [ 6.5  3.   5.2  2. ]\n",
      " [ 6.2  3.4  5.4  2.3]\n",
      " [ 5.9  3.   5.1  1.8]]\n",
      "['sepal length (cm)', 'sepal width (cm)', 'petal length (cm)', 'petal width (cm)']\n",
      "[0 0 0 0 0 0 0 0 0 0 0 0 0 0 0 0 0 0 0 0 0 0 0 0 0 0 0 0 0 0 0 0 0 0 0 0 0\n",
      " 0 0 0 0 0 0 0 0 0 0 0 0 0 1 1 1 1 1 1 1 1 1 1 1 1 1 1 1 1 1 1 1 1 1 1 1 1\n",
      " 1 1 1 1 1 1 1 1 1 1 1 1 1 1 1 1 1 1 1 1 1 1 1 1 1 1 2 2 2 2 2 2 2 2 2 2 2\n",
      " 2 2 2 2 2 2 2 2 2 2 2 2 2 2 2 2 2 2 2 2 2 2 2 2 2 2 2 2 2 2 2 2 2 2 2 2 2\n",
      " 2 2]\n",
      "['setosa' 'versicolor' 'virginica']\n"
     ]
    }
   ],
   "source": [
    "print iris.DESCR\n",
    "print iris.data\n",
    "print iris.feature_names\n",
    "print iris.target\n",
    "print iris.target_names"
   ]
  },
  {
   "cell_type": "markdown",
   "metadata": {},
   "source": [
    "So, we can see that the attributes of the second flower are `[4.9, 3.0, 1.4, 0.2]`, which means its `sepal_length` is 4.9 cm, `sepal_width` is 3.0 cm, `petal_length` is 1.4 cm, and `petal_width` is 0.2 cm. We will write it matematically as $x_2 = [x_{21}, x_{22}, x_{23}, x_{24}] = [4.9, 3.0, 1.4, 0.2]$. We see that its `target` is 0, which means the type of this iris is `setosa`. We will write it matematically as $y_2 = 0$. All this information was obtained by real botanists who studied iris flowers trying to understand the physical measurements that discriminate between the 3 different types of those flowers.\n",
    "\n",
    "In data science, people like to denote this data set as $D_{Iris} = \\{(x_i, y_i), i = 1, 2 ... 150\\}$, meaning that data set $D_{Iris}$ is a set of 150 labeled examples $(x_i, y_i)$. An alternative is to write $D_{Iris} = \\{X_{Iris}, Y_{Iris}\\}$.\n",
    "\n",
    "### Supervised Learning\n",
    "Supervised learning is a game with the following objective. You are given the iris data set $D_{Iris}$ where you know 4 attributes and target values for 150 irises and your objective is to come up with a computer program that predicts a type of any iris flower given the values of its 4 attributes. Written in pseudocode, this is what you have to do:\n",
    "\n",
    "`predictor = create(algorithm_type, D)\n",
    "y_new = predictor(x_new)`\n",
    "\n",
    "In the first line, you are running a `create` function that takes as input data set `D` and the name of a supervised learning algorithm `algorithm_type` and produces as an output a computer program `predictor`. In the second line, you are using `predictor` to predict the label (`y_new` value) for a flower whose attributes are given by `x_new`.\n",
    "\n",
    "### kNN Algorithm\n",
    "kNN is a popular supervised learning algorithm that allows us to create `predictor`. The idea of kNN is that the label of flower `x_new` depends on labels of flowers in its neighborhood. In particular, kNN finds the distance between `x_new` and every example `x` in data set `D`. Then, it looks at the label `y` of k examples which are the closest to `x_new`. The predicted label `y_new` is obtained as the most common label in the group of the k nearest neighbors.\n",
    "\n",
    "**Parameter choice**. We need to make a few decisions when running kNN. The most important is the choice of `k`. If `k = 1`, then we are looking only at the hearest neighbor and it might not be a good idea if we are dealing with noisy data. If `k` is very large, then we might be counting far neighbors that might have different properties. Other decisions include the choice of distance metric (Euclidean is the standard one) and the choice whether to weight closer neighbors more than the farther ones.\n",
    "\n",
    "**Accuracy**. When deciding which parameters to pick or which supervised learning algorithm to use (there are popular algorithms other than kNN), the question is how to measure which choice is better. The answer is to check if `predictor` provides accurate prediction. Given a data set `D`, a typical way to check accuracy is to randomly split `D` into two data sets, `D_train` and `D_test`. Then, `predictor` is created/trained using `D_train` data set and its accuracy is checked using `D_test`. In particular, we use `predictor` to predict label of every example from `D_test` and compare it with the true labels. The percentage of the correct guesses on `D_test` is reported as accuracy of `predictor`.\n",
    "\n",
    "## kNN Demo\n",
    "The following piece of code is taken from:\n",
    "http://scikit-learn.org/stable/auto_examples/neighbors/plot_classification.html#sphx-glr-auto-examples-neighbors-plot-classification-py. Let us run it."
   ]
  },
  {
   "cell_type": "code",
   "execution_count": 4,
   "metadata": {},
   "outputs": [
    {
     "data": {
      "text/plain": [
       "<matplotlib.figure.Figure at 0xcadffd0>"
      ]
     },
     "metadata": {},
     "output_type": "display_data"
    },
    {
     "data": {
      "image/png": "[encoded data removed]",
      "text/plain": [
       "<matplotlib.figure.Figure at 0xcaea3c8>"
      ]
     },
     "metadata": {},
     "output_type": "display_data"
    }
   ],
   "source": [
    "k = 1   # how many nearest neighbors are consulted\n",
    "\n",
    "X = iris.data[:, [0,1]]  # we only take the first two features. We could\n",
    "y = iris.target\n",
    "\n",
    "h = .02  # step size in the mesh\n",
    "\n",
    "# Create color maps\n",
    "cmap_light = ListedColormap(['#FFAAAA', '#AAFFAA', '#AAAAFF'])\n",
    "cmap_bold = ListedColormap(['#FF0000', '#00FF00', '#0000FF'])\n",
    "\n",
    "# we create an instance of Neighbours Classifier and fit the data.\n",
    "clf = neighbors.KNeighborsClassifier(k, weights='uniform')\n",
    "clf.fit(X, y)\n",
    "\n",
    "# Plot the decision boundary. For that, we will assign a color to each\n",
    "# point in the mesh [x_min, x_max]x[y_min, y_max].\n",
    "x_min, x_max = X[:, 0].min() - 1, X[:, 0].max() + 1\n",
    "y_min, y_max = X[:, 1].min() - 1, X[:, 1].max() + 1\n",
    "xx, yy = np.meshgrid(np.arange(x_min, x_max, h),\n",
    "                     np.arange(y_min, y_max, h))\n",
    "Z = clf.predict(np.c_[xx.ravel(), yy.ravel()])\n",
    "# Put the result into a color plot\n",
    "Z = Z.reshape(xx.shape)\n",
    "plt.figure()\n",
    "plt.figure(figsize=(6,3))   # this makes both axis equal \n",
    "plt.pcolormesh(xx, yy, Z, cmap=cmap_light)\n",
    "\n",
    "# Plot also the training points\n",
    "plt.scatter(X[:, 0], X[:, 1], c=y, cmap=cmap_bold)\n",
    "plt.xlim(xx.min(), xx.max())\n",
    "plt.ylim(yy.min(), yy.max())\n",
    "plt.title(\"3-Class classification (k = %i, weights = '%s')\" % (k, 'uniform'))\n",
    "plt.show()"
   ]
  },
  {
   "cell_type": "markdown",
   "metadata": {},
   "source": [
    "The resulting figure shows the predictions of kNN when $k=1$. If `x_new` is in the blue region, the prediction will be the blue class. From this picture, we can observe a small blue blobs inside the predominantly gray area. This is because the nearest neighbor in this area is the blue example. \n",
    "\n",
    "**Question 1**. Change value of k to 3 and observe if there is any difference. Discuss what you see and why.\n",
    "\n",
    "**Question 2**. Change k to an even higher value, let us say to 25. What do we see now? Discuss.\n",
    "\n",
    "**Queston 3**. In the line that creates `clf` change weights='uniform' to weights='distance'. Check the documentation or google to understand what it means. Explain. Run the code and discuss if you see any difference.\n",
    "\n",
    "**Question 4**. Take a look at the code and try to understand what each line of the code does. Explain each line of code."
   ]
  },
  {
   "cell_type": "markdown",
   "metadata": {},
   "source": [
    "#### Question 1 and Question 4 - in the comment"
   ]
  },
  {
   "cell_type": "code",
   "execution_count": 5,
   "metadata": {},
   "outputs": [
    {
     "data": {
      "text/plain": [
       "<matplotlib.figure.Figure at 0xd00ce10>"
      ]
     },
     "metadata": {},
     "output_type": "display_data"
    },
    {
     "data": {
      "image/png": "[encoded data removed]",
      "text/plain": [
       "<matplotlib.figure.Figure at 0xcdc8438>"
      ]
     },
     "metadata": {},
     "output_type": "display_data"
    }
   ],
   "source": [
    "k = 3 #set k = 3\n",
    "\n",
    "X = iris.data[:, [0,1]] # get the first two attributes\n",
    "y = iris.target # get the label values\n",
    "h = .02 \n",
    "\n",
    "cmap_light = ListedColormap(['#FFAAAA', '#AAFFAA', '#AAAAFF'])#pass in a list of matplotlib color specifications to create a colormap object\n",
    "cmap_bold = ListedColormap(['#FF0000', '#00FF00', '#0000FF'])#pass in a list of matplotlib color specifications to create a colormap object\n",
    "\n",
    "clf = neighbors.KNeighborsClassifier(k, weights = 'uniform')#create an kNN classifier instance with parameter k and weights = 'uniform'\n",
    "clf.fit(X,y)#Fit the model using X as training data and y as target values\n",
    "\n",
    "# Plot the decision boundary. For that, we will assign a color to each\n",
    "# point in the mesh [x_min, x_max]x[y_min, y_max].\n",
    "x_min, x_max = X[:, 0].min() - 1, X[:, 0].max() + 1#x_min is the min of the first column of X -1, x_max is the max of the first column of X + 1\n",
    "y_min, y_max = X[:, 1].min() - 1, X[:, 1].max() + 1#y_min is the min of the second column of X -1, y_max is the max of the second column of X +\n",
    "\n",
    "#np.arange(x_min, x_max,h) returns an array starting at x_min, ending at x_max with steps h, similar for np.arange(y_min,y_max,h)\n",
    "#np.meshgrid Make N-D coordinate arrays for vectorized evaluations of N-D scalar/vector fields over N-D grids, \n",
    "#given one-dimensional coordinate arrays x1, x2,..., xn.  \n",
    "#here, we pass in two 1-dimensional arrays: np.arange(x_min,x_max,h) with length N1, np.arange(y_min,y_max,h) with length N2, then\n",
    "#np.meshgrid returns two N2 x N1 arrays XX and YY  such that the pairing of the corresponding element in each matrix \n",
    "#gives the x and y coordinates of a point in the grid.\n",
    "xx, yy = np.meshgrid(np.arange(x_min, x_max, h), np.arange(y_min, y_max, h))\n",
    "\n",
    "# xx.ravel() and yy.ravel() return a contiguous flattened array for xx and yy respectively\n",
    "# np.c_ puts xx.ravel() values in the first column and yy.ravel() values in the second column\n",
    "# clf.predict() predict label given the data we pass in, which is the matrix that has xx.ravel() in the first column and yy.ravel()\n",
    "# in the second column. Z stores the label values\n",
    "Z = clf.predict(np.c_[xx.ravel(), yy.ravel()]) \n",
    "\n",
    "Z = Z.reshape(xx.shape) #turn Z into a matrix of the same shape as xx\n",
    "plt.figure() #open a figure\n",
    "plt.figure(figsize = (7,4)) #set figure size to (7,4)\n",
    "plt.pcolormesh(xx,yy,Z,cmap = cmap_light) \n",
    "# xx,yy are the x-y coordinates of the points. Z is the label matrix, so for each point in the graph we use Z and cmap to color the region  \n",
    "plt.scatter(X[:,0], X[:,1], c = y, cmap = cmap_bold) #scatter the original data using the first column as x axis and second column\n",
    "# as y axis, color = y, since y is an array of floats, cmap_bold is passed in. We use y and cmap to color the region\n",
    "plt.xlim(xx.min(), xx.max()) #set limit of the x-axis to the min and max of xx\n",
    "plt.ylim(yy.min(), yy.max()) #set the limit of the y-axis to the min and max of yy\n",
    "plt.title(\"3-Class Classification (k = %i, weights = %s)\" % (k, 'uniform')) #set the title of the graph. \n",
    "plt.show()\n"
   ]
  },
  {
   "cell_type": "markdown",
   "metadata": {},
   "source": [
    "I think using k = 3 is better than using k = 1. When using k = 1, we obtain one small blue \"island\" in the middle of red and green region, but while using k = 3, that small island becomes green. This result makes more sense, because there is only one blue data point in the middle of many red and green data points, so it makes more sense that that blue data point is just an outlier and the region should belong to either red or green! Furthermore, we also see that using k = 3, we obtain a bigger blue island near the border of blue and green"
   ]
  },
  {
   "cell_type": "markdown",
   "metadata": {},
   "source": [
    "#### Question 2"
   ]
  },
  {
   "cell_type": "code",
   "execution_count": 6,
   "metadata": {},
   "outputs": [
    {
     "data": {
      "text/plain": [
       "<matplotlib.figure.Figure at 0xcadf9b0>"
      ]
     },
     "metadata": {},
     "output_type": "display_data"
    },
    {
     "data": {
      "image/png": "[encoded data removed]",
      "text/plain": [
       "<matplotlib.figure.Figure at 0xcaea208>"
      ]
     },
     "metadata": {},
     "output_type": "display_data"
    }
   ],
   "source": [
    "k = 25\n",
    "\n",
    "clf = neighbors.KNeighborsClassifier(k, weights = 'uniform')\n",
    "clf.fit(X,y)\n",
    "\n",
    "Z = clf.predict(np.c_[xx.ravel(), yy.ravel()])\n",
    "Z = Z.reshape(xx.shape)\n",
    "plt.figure()\n",
    "plt.figure(figsize = (7,4))\n",
    "plt.pcolormesh(xx,yy,Z,cmap = cmap_light)\n",
    "plt.scatter(X[:,0], X[:,1], c = y, cmap = cmap_bold)\n",
    "plt.xlim(xx.min(), xx.max())\n",
    "plt.ylim(yy.min(), yy.max())\n",
    "plt.title(\"3-Class Classification (k = %i, weights = %s)\" % (k, 'uniform'))\n",
    "plt.show()"
   ]
  },
  {
   "cell_type": "markdown",
   "metadata": {},
   "source": [
    "Compared to when k = 1, in k = 25, the small blue island becomes a red region! Compared to when k = 3, the blue islands in the middle of green region either disappear or get smaller! There are also 2 green data points somehow ending up in the small blue island in the middle of green region."
   ]
  },
  {
   "cell_type": "markdown",
   "metadata": {},
   "source": [
    "#### Question 3"
   ]
  },
  {
   "cell_type": "code",
   "execution_count": 7,
   "metadata": {},
   "outputs": [
    {
     "data": {
      "text/plain": [
       "[(1, 'uniform'),\n",
       " (1, 'distance'),\n",
       " (3, 'uniform'),\n",
       " (3, 'distance'),\n",
       " (25, 'uniform'),\n",
       " (25, 'distance')]"
      ]
     },
     "execution_count": 7,
     "metadata": {},
     "output_type": "execute_result"
    }
   ],
   "source": [
    "import itertools \n",
    "K = [1,3,25]\n",
    "Weights = ['uniform', 'distance']\n",
    "Combo = list(itertools.product(K, Weights))\n",
    "Combo"
   ]
  },
  {
   "cell_type": "code",
   "execution_count": 8,
   "metadata": {},
   "outputs": [
    {
     "data": {
      "text/plain": [
       "<matplotlib.figure.Figure at 0xca48f60>"
      ]
     },
     "metadata": {},
     "output_type": "display_data"
    },
    {
     "data": {
      "image/png": "[encoded data removed]",
      "text/plain": [
       "<matplotlib.figure.Figure at 0xcadf588>"
      ]
     },
     "metadata": {},
     "output_type": "display_data"
    },
    {
     "data": {
      "text/plain": [
       "<matplotlib.figure.Figure at 0xed57ba8>"
      ]
     },
     "metadata": {},
     "output_type": "display_data"
    },
    {
     "data": {
      "image/png": "[encoded data removed]",
      "text/plain": [
       "<matplotlib.figure.Figure at 0xed4cf28>"
      ]
     },
     "metadata": {},
     "output_type": "display_data"
    },
    {
     "data": {
      "text/plain": [
       "<matplotlib.figure.Figure at 0xe907c50>"
      ]
     },
     "metadata": {},
     "output_type": "display_data"
    },
    {
     "data": {
      "image/png": "[encoded data removed]",
      "text/plain": [
       "<matplotlib.figure.Figure at 0xed577b8>"
      ]
     },
     "metadata": {},
     "output_type": "display_data"
    },
    {
     "data": {
      "text/plain": [
       "<matplotlib.figure.Figure at 0xeed20b8>"
      ]
     },
     "metadata": {},
     "output_type": "display_data"
    },
    {
     "data": {
      "image/png": "[encoded data removed]",
      "text/plain": [
       "<matplotlib.figure.Figure at 0xf1414e0>"
      ]
     },
     "metadata": {},
     "output_type": "display_data"
    },
    {
     "data": {
      "text/plain": [
       "<matplotlib.figure.Figure at 0xee079e8>"
      ]
     },
     "metadata": {},
     "output_type": "display_data"
    },
    {
     "data": {
      "image/png": "[encoded data removed]",
      "text/plain": [
       "<matplotlib.figure.Figure at 0xedfb048>"
      ]
     },
     "metadata": {},
     "output_type": "display_data"
    },
    {
     "data": {
      "text/plain": [
       "<matplotlib.figure.Figure at 0xf039e48>"
      ]
     },
     "metadata": {},
     "output_type": "display_data"
    },
    {
     "data": {
      "image/png": "[encoded data removed]",
      "text/plain": [
       "<matplotlib.figure.Figure at 0x1013ed68>"
      ]
     },
     "metadata": {},
     "output_type": "display_data"
    }
   ],
   "source": [
    "for c in Combo:\n",
    "    k = c[0]\n",
    "    weight = c[1]\n",
    "    clf = neighbors.KNeighborsClassifier(k, weights = weight)\n",
    "    clf.fit(X,y)\n",
    "    Z = clf.predict(np.c_[xx.ravel(), yy.ravel()])\n",
    "    Z = Z.reshape(xx.shape)\n",
    "    plt.figure()\n",
    "    plt.figure(figsize = (7,4))\n",
    "    plt.pcolormesh(xx,yy,Z,cmap = cmap_light)\n",
    "    plt.scatter(X[:,0], X[:,1], c = y, cmap = cmap_bold)\n",
    "    plt.xlim(xx.min(), xx.max())\n",
    "    plt.ylim(yy.min(), yy.max())\n",
    "    plt.title('3-Class classification (k = % i, weights = %s)' % (k, weight))\n",
    "    plt.show()"
   ]
  },
  {
   "cell_type": "markdown",
   "metadata": {},
   "source": [
    "* Case k = 1, there is merely no difference in using weights = 'distance' rather than using weights = 'uniform', which makes sense, we only consider one neighbor!\n",
    "\n",
    "\n",
    "* Case k = 3, there are some differences now. When using weights = 'distance', the little blue island in the middle of red and green region doesn't disappear and just get smaller. The other bigger blue island near the border of green and blue region is bigger when using weights = 'distance' than using weights = 'uniform'\n",
    "\n",
    "\n",
    "* Case k = 25, previously, we mention that when weights = 'uniform', there are two green data points somehow ending up in the small blue island in the middle of green region. Now when using weights = 'distance', that small blue island disappears. In fact, when using weights = 'distance', there is no island inside the region of different color!"
   ]
  },
  {
   "cell_type": "markdown",
   "metadata": {},
   "source": [
    "### Training and testing\n",
    "  As mentioned above, the typical mechanism for testing accuracy of a `predictor` is to split the data randomly into training and testing, train `predictor` on training data and test its performance on test data. Let us see how it can be done."
   ]
  },
  {
   "cell_type": "code",
   "execution_count": 9,
   "metadata": {},
   "outputs": [
    {
     "name": "stderr",
     "output_type": "stream",
     "text": [
      "C:\\Users\\Hoang\\Anaconda2\\lib\\site-packages\\sklearn\\cross_validation.py:41: DeprecationWarning: This module was deprecated in version 0.18 in favor of the model_selection module into which all the refactored classes and functions are moved. Also note that the interface of the new CV iterators are different from that of this module. This module will be removed in 0.20.\n",
      "  \"This module will be removed in 0.20.\", DeprecationWarning)\n"
     ]
    }
   ],
   "source": [
    "from sklearn.cross_validation import train_test_split\n",
    "X_train, X_test, y_train, y_test = train_test_split(\n",
    "    X, y, test_size=0.33)"
   ]
  },
  {
   "cell_type": "markdown",
   "metadata": {},
   "source": [
    "**Question 5**. What is the size of the resulting objects?\n",
    "\n",
    "Now that we created training and test sets, we can train a kNN classifier using the training data. Before moving forward, let us take a second and take a look at the documentation for kNN implementation in sklearn: http://scikit-learn.org/stable/modules/generated/sklearn.neighbors.KNeighborsClassifier.html.\n",
    "\n",
    "Let us train the kNN predictor:"
   ]
  },
  {
   "cell_type": "markdown",
   "metadata": {},
   "source": [
    "#### Question 5"
   ]
  },
  {
   "cell_type": "code",
   "execution_count": 10,
   "metadata": {},
   "outputs": [
    {
     "name": "stdout",
     "output_type": "stream",
     "text": [
      "(100L, 2L) (50L, 2L) (100L,) (50L,)\n"
     ]
    }
   ],
   "source": [
    "print X_train.shape, X_test.shape, y_train.shape, y_test.shape"
   ]
  },
  {
   "cell_type": "code",
   "execution_count": 11,
   "metadata": {},
   "outputs": [
    {
     "name": "stdout",
     "output_type": "stream",
     "text": [
      "KNeighborsClassifier(algorithm='auto', leaf_size=30, metric='minkowski',\n",
      "           metric_params=None, n_jobs=1, n_neighbors=1, p=2,\n",
      "           weights='uniform')\n"
     ]
    }
   ],
   "source": [
    "#from sklearn.neighbors import KNeighborsClassifier\n",
    "k = 1   # number of nearest neighbors\n",
    "predictor = neighbors.KNeighborsClassifier(n_neighbors = k)\n",
    "predictor.fit(X_train, y_train);\n",
    "print predictor"
   ]
  },
  {
   "cell_type": "markdown",
   "metadata": {},
   "source": [
    "Now that we trained `predictor` we can use it to provide predictions on any example `x`. "
   ]
  },
  {
   "cell_type": "code",
   "execution_count": 12,
   "metadata": {},
   "outputs": [
    {
     "name": "stdout",
     "output_type": "stream",
     "text": [
      "[[ 6.9  3.2]\n",
      " [ 4.8  3.4]\n",
      " [ 4.8  3.4]\n",
      " [ 6.1  3. ]]\n",
      "[[1 2]\n",
      " [0 0]\n",
      " [0 0]\n",
      " [1 2]]\n"
     ]
    }
   ],
   "source": [
    "# select the first 4 test examples\n",
    "i = [0,1,2,3]\n",
    "x = X_test[i,:]\n",
    "print x\n",
    "# predict its label\n",
    "yhat = predictor.predict(x)\n",
    "# compare predicted and true labels\n",
    "print np.array(zip(yhat,y_test[i]))"
   ]
  },
  {
   "cell_type": "markdown",
   "metadata": {},
   "source": [
    "**Question 6**. Did your kNN predictor do a good job in predicting labels of the first 4 test examples? \n",
    "\n",
    "**Question 7**. Write a piece of code that calculates the accuracy on those 4 test examples (number of correct guesses divided by the total number of guesses\n",
    "\n",
    "**Question 8**. Find the predictions on all test examples in `X_test` and calculate the accuracy using your code from *Question 7*.\n",
    "\n",
    "Pay attention that methods in sklearn.neighbors.KNeighborsClassifier allow you to test the accuracy in a faster way (you should not use it to answer Questions 7 and 8):"
   ]
  },
  {
   "cell_type": "code",
   "execution_count": 13,
   "metadata": {},
   "outputs": [
    {
     "name": "stdout",
     "output_type": "stream",
     "text": [
      "0.68\n"
     ]
    }
   ],
   "source": [
    "accuracy = predictor.score(X_test,y_test)\n",
    "print accuracy"
   ]
  },
  {
   "cell_type": "markdown",
   "metadata": {},
   "source": [
    "#### Question 6\n",
    "\n",
    "We missed 2 examples, so pretty bad. If it performs the same for the rest of the dataset then a 50% accuracy is bad! "
   ]
  },
  {
   "cell_type": "markdown",
   "metadata": {},
   "source": [
    "#### Question 7"
   ]
  },
  {
   "cell_type": "code",
   "execution_count": 14,
   "metadata": {},
   "outputs": [
    {
     "name": "stdout",
     "output_type": "stream",
     "text": [
      "0.5\n"
     ]
    }
   ],
   "source": [
    "accuracy_array = (yhat == y_test[i]).astype(int)\n",
    "print sum(accuracy_array)/float(len(accuracy_array)) ##This is the code to calculate the accuracy"
   ]
  },
  {
   "cell_type": "markdown",
   "metadata": {},
   "source": [
    "#### Question 8"
   ]
  },
  {
   "cell_type": "code",
   "execution_count": 15,
   "metadata": {},
   "outputs": [
    {
     "name": "stdout",
     "output_type": "stream",
     "text": [
      "[[1 2]\n",
      " [0 0]\n",
      " [0 0]\n",
      " [1 2]\n",
      " [1 1]\n",
      " [1 2]\n",
      " [0 0]\n",
      " [2 1]\n",
      " [1 2]\n",
      " [1 2]\n",
      " [2 1]\n",
      " [1 1]\n",
      " [0 0]\n",
      " [0 0]\n",
      " [2 2]\n",
      " [0 0]\n",
      " [1 1]\n",
      " [0 0]\n",
      " [2 2]\n",
      " [2 2]\n",
      " [2 1]\n",
      " [1 2]\n",
      " [1 1]\n",
      " [2 1]\n",
      " [1 1]\n",
      " [2 2]\n",
      " [2 2]\n",
      " [1 2]\n",
      " [2 2]\n",
      " [2 1]\n",
      " [0 0]\n",
      " [0 0]\n",
      " [2 1]\n",
      " [1 1]\n",
      " [2 2]\n",
      " [1 2]\n",
      " [2 2]\n",
      " [0 0]\n",
      " [0 0]\n",
      " [2 1]\n",
      " [1 1]\n",
      " [0 0]\n",
      " [2 2]\n",
      " [2 2]\n",
      " [0 0]\n",
      " [2 2]\n",
      " [0 0]\n",
      " [2 1]\n",
      " [1 1]\n",
      " [1 1]]\n",
      "0.68\n"
     ]
    }
   ],
   "source": [
    "yhat = predictor.predict(X_test)\n",
    "print np.array(zip(yhat,y_test))\n",
    "accuracy_array = (yhat == y_test).astype(int)\n",
    "print sum(accuracy_array)/float(len(accuracy_array))"
   ]
  },
  {
   "cell_type": "markdown",
   "metadata": {},
   "source": [
    "The accuracy is 68%. We get the same value as when using built-in method in neighbors.KNeighborsClassifier! Fair result"
   ]
  },
  {
   "cell_type": "markdown",
   "metadata": {},
   "source": [
    "**Question 9**. Train `predictor` using different choices of k. Try $k = 1, 3, 5, 15, 25, 50$. Report the accuracies on the test data (you can use the score method). Which choice of $k$ resulted in the highest accuracy? Comment briefly if the results make sense to you.\n",
    "\n",
    "**Question 10**. Other than choice of $k$, `KNeighborsClassifier` allows you to make some other choices. For example, in *Question 3* you saw that you can use a weighted prediction. There are few other options. Study the documentation and summarize in few sentences what other options you have when training the kNN classifier."
   ]
  },
  {
   "cell_type": "markdown",
   "metadata": {},
   "source": [
    "#### Question 9"
   ]
  },
  {
   "cell_type": "code",
   "execution_count": 16,
   "metadata": {},
   "outputs": [
    {
     "name": "stdout",
     "output_type": "stream",
     "text": [
      "k = 1, accuracy = 0.680000\n",
      "k = 3, accuracy = 0.740000\n",
      "k = 5, accuracy = 0.760000\n",
      "k = 15, accuracy = 0.780000\n",
      "k = 25, accuracy = 0.820000\n",
      "k = 50, accuracy = 0.800000\n"
     ]
    }
   ],
   "source": [
    "K = [1,3,5,15,25,50]\n",
    "for k in K:\n",
    "    predictor = neighbors.KNeighborsClassifier(k, weights = 'uniform')\n",
    "    predictor.fit(X_train, y_train)\n",
    "    accuracy = predictor.score(X_test, y_test)\n",
    "    print 'k = %i, accuracy = %f' % (k,accuracy)"
   ]
  },
  {
   "cell_type": "markdown",
   "metadata": {},
   "source": [
    "By comparing the accuracy, k = 25 gives us the highest accuracy. We should choose k = 25. The result makes sense to me. Because using k = 1,3,5, we may not be able to account for the noise in the iris dataset. Using k = 50, we are considering many data points further away, and they are not even 'neighbors'! The test dataset has 50 examples, so using k = 50 is too much! It also looks weird to me that k=15 gets a lower accuracy than k=50  "
   ]
  },
  {
   "cell_type": "markdown",
   "metadata": {},
   "source": [
    "#### Question 10"
   ]
  },
  {
   "cell_type": "code",
   "execution_count": 17,
   "metadata": {},
   "outputs": [
    {
     "data": {
      "text/plain": [
       "72"
      ]
     },
     "execution_count": 17,
     "metadata": {},
     "output_type": "execute_result"
    }
   ],
   "source": [
    "Metrics = ['euclidean', 'minkowski', 'cosine', 'chebyshev', 'canberra', 'braycurtis']\n",
    "K = [1,3,5,15,25,50]\n",
    "Weights = ['uniform', 'distance']\n",
    "Combo = list(itertools.product(K,Weights, Metrics))\n",
    "len(Combo)"
   ]
  },
  {
   "cell_type": "code",
   "execution_count": 18,
   "metadata": {
    "scrolled": true
   },
   "outputs": [
    {
     "name": "stdout",
     "output_type": "stream",
     "text": [
      "k = 1, weights = uniform, metrics = euclidean, accuracy = 0.680000\n",
      "k = 1, weights = uniform, metrics = minkowski, accuracy = 0.680000\n",
      "k = 1, weights = uniform, metrics = cosine, accuracy = 0.700000\n",
      "k = 1, weights = uniform, metrics = chebyshev, accuracy = 0.720000\n",
      "k = 1, weights = uniform, metrics = canberra, accuracy = 0.680000\n",
      "k = 1, weights = uniform, metrics = braycurtis, accuracy = 0.660000\n",
      "k = 1, weights = distance, metrics = euclidean, accuracy = 0.680000\n",
      "k = 1, weights = distance, metrics = minkowski, accuracy = 0.680000\n",
      "k = 1, weights = distance, metrics = cosine, accuracy = 0.700000\n",
      "k = 1, weights = distance, metrics = chebyshev, accuracy = 0.720000\n",
      "k = 1, weights = distance, metrics = canberra, accuracy = 0.680000\n",
      "k = 1, weights = distance, metrics = braycurtis, accuracy = 0.660000\n",
      "k = 3, weights = uniform, metrics = euclidean, accuracy = 0.740000\n",
      "k = 3, weights = uniform, metrics = minkowski, accuracy = 0.740000\n",
      "k = 3, weights = uniform, metrics = cosine, accuracy = 0.620000\n",
      "k = 3, weights = uniform, metrics = chebyshev, accuracy = 0.740000\n",
      "k = 3, weights = uniform, metrics = canberra, accuracy = 0.740000\n",
      "k = 3, weights = uniform, metrics = braycurtis, accuracy = 0.760000\n",
      "k = 3, weights = distance, metrics = euclidean, accuracy = 0.740000\n",
      "k = 3, weights = distance, metrics = minkowski, accuracy = 0.740000\n",
      "k = 3, weights = distance, metrics = cosine, accuracy = 0.700000\n",
      "k = 3, weights = distance, metrics = chebyshev, accuracy = 0.780000\n",
      "k = 3, weights = distance, metrics = canberra, accuracy = 0.720000\n",
      "k = 3, weights = distance, metrics = braycurtis, accuracy = 0.700000\n",
      "k = 5, weights = uniform, metrics = euclidean, accuracy = 0.760000\n",
      "k = 5, weights = uniform, metrics = minkowski, accuracy = 0.760000\n",
      "k = 5, weights = uniform, metrics = cosine, accuracy = 0.620000\n",
      "k = 5, weights = uniform, metrics = chebyshev, accuracy = 0.700000\n",
      "k = 5, weights = uniform, metrics = canberra, accuracy = 0.820000\n",
      "k = 5, weights = uniform, metrics = braycurtis, accuracy = 0.820000\n",
      "k = 5, weights = distance, metrics = euclidean, accuracy = 0.780000\n",
      "k = 5, weights = distance, metrics = minkowski, accuracy = 0.780000\n",
      "k = 5, weights = distance, metrics = cosine, accuracy = 0.700000\n",
      "k = 5, weights = distance, metrics = chebyshev, accuracy = 0.740000\n",
      "k = 5, weights = distance, metrics = canberra, accuracy = 0.760000\n",
      "k = 5, weights = distance, metrics = braycurtis, accuracy = 0.760000\n",
      "k = 15, weights = uniform, metrics = euclidean, accuracy = 0.780000\n",
      "k = 15, weights = uniform, metrics = minkowski, accuracy = 0.780000\n",
      "k = 15, weights = uniform, metrics = cosine, accuracy = 0.660000\n",
      "k = 15, weights = uniform, metrics = chebyshev, accuracy = 0.780000\n",
      "k = 15, weights = uniform, metrics = canberra, accuracy = 0.800000\n",
      "k = 15, weights = uniform, metrics = braycurtis, accuracy = 0.740000\n",
      "k = 15, weights = distance, metrics = euclidean, accuracy = 0.760000\n",
      "k = 15, weights = distance, metrics = minkowski, accuracy = 0.760000\n",
      "k = 15, weights = distance, metrics = cosine, accuracy = 0.640000\n",
      "k = 15, weights = distance, metrics = chebyshev, accuracy = 0.760000\n",
      "k = 15, weights = distance, metrics = canberra, accuracy = 0.760000\n",
      "k = 15, weights = distance, metrics = braycurtis, accuracy = 0.720000\n",
      "k = 25, weights = uniform, metrics = euclidean, accuracy = 0.820000\n",
      "k = 25, weights = uniform, metrics = minkowski, accuracy = 0.820000\n",
      "k = 25, weights = uniform, metrics = cosine, accuracy = 0.620000\n",
      "k = 25, weights = uniform, metrics = chebyshev, accuracy = 0.840000\n",
      "k = 25, weights = uniform, metrics = canberra, accuracy = 0.820000\n",
      "k = 25, weights = uniform, metrics = braycurtis, accuracy = 0.820000\n",
      "k = 25, weights = distance, metrics = euclidean, accuracy = 0.780000\n",
      "k = 25, weights = distance, metrics = minkowski, accuracy = 0.780000\n",
      "k = 25, weights = distance, metrics = cosine, accuracy = 0.640000\n",
      "k = 25, weights = distance, metrics = chebyshev, accuracy = 0.760000\n",
      "k = 25, weights = distance, metrics = canberra, accuracy = 0.780000\n",
      "k = 25, weights = distance, metrics = braycurtis, accuracy = 0.740000\n",
      "k = 50, weights = uniform, metrics = euclidean, accuracy = 0.800000\n",
      "k = 50, weights = uniform, metrics = minkowski, accuracy = 0.800000\n",
      "k = 50, weights = uniform, metrics = cosine, accuracy = 0.600000\n",
      "k = 50, weights = uniform, metrics = chebyshev, accuracy = 0.800000\n",
      "k = 50, weights = uniform, metrics = canberra, accuracy = 0.820000\n",
      "k = 50, weights = uniform, metrics = braycurtis, accuracy = 0.820000\n",
      "k = 50, weights = distance, metrics = euclidean, accuracy = 0.800000\n",
      "k = 50, weights = distance, metrics = minkowski, accuracy = 0.800000\n",
      "k = 50, weights = distance, metrics = cosine, accuracy = 0.640000\n",
      "k = 50, weights = distance, metrics = chebyshev, accuracy = 0.820000\n",
      "k = 50, weights = distance, metrics = canberra, accuracy = 0.780000\n",
      "k = 50, weights = distance, metrics = braycurtis, accuracy = 0.760000\n"
     ]
    }
   ],
   "source": [
    "for c in Combo:\n",
    "    k = c[0]\n",
    "    weight = c[1]\n",
    "    metrics = c[2]\n",
    "    predictor = neighbors.KNeighborsClassifier(k, weights = weight, metric = metrics)\n",
    "    predictor.fit(X_train, y_train)\n",
    "    accuracy = predictor.score(X_test, y_test)\n",
    "    print 'k = %i, weights = %s, metrics = %s, accuracy = %f' % (k, weight, metrics, accuracy)"
   ]
  },
  {
   "cell_type": "markdown",
   "metadata": {},
   "source": [
    "Our best result is \n",
    "\n",
    "k = 25, weights = uniform, metrics = euclidean, accuracy = 0.820000\n",
    "\n",
    "k = 25, weights = uniform, metrics = minkowski, accuracy = 0.820000\n",
    "\n",
    "k = 50, weights = distance, metrics = chebyshev, accuracy = 0.820000\n",
    "\n",
    "This is just an example of how to use other options of KNeighborsClassifier. We have option to choose k, weights (either uniform or distance, uniform gives the same weight for all k neighbors, distance gives higher weights to closer neighbors), algorithm (algorithms used to computer the nearest neighbors, there are BallTree, KDTree, Brute - Brute-force method, auto - will attempt to decide the most appropriate algorithm based on the values passed to fit method), and metrics (we have many metrics to use https://docs.scipy.org/doc/scipy/reference/generated/scipy.spatial.distance.pdist.html#scipy.spatial.distance.pdist)"
   ]
  },
  {
   "cell_type": "markdown",
   "metadata": {},
   "source": []
  },
  {
   "cell_type": "markdown",
   "metadata": {},
   "source": [
    "## Lab 7.B Training kNN classifier on Iris and Newsgroups data\n",
    "In this part of the lab you will use your knowledge to train and test accuracy of kNN classifiers on Iris and Newsgroups data.\n",
    "\n",
    "#### Iris Questions\n",
    "In Lab 7.A you used only the first two attributes of Iris for prediction. You have 2 questions:\n",
    "\n",
    "**Question Iris 1**. Train kNN classifier on other pair of attributes. Use $k$ of your choice and feel free to keep other choices at their default values. Which pair of attributes results in the highest accuracy?\n",
    "\n",
    "** Question Iris 2**. Train kNN classifier using all 4 attributes. Report the accuracy on test data set. Play with parameters of kNN to try to find a combination that results in the highest accuracy. Can you find something that works better than $k=3$ and default choices?\n",
    "\n",
    "#### Newsgroups Questions\n",
    "In Lab you already got experience working with the newsgroups data. \n",
    "\n",
    "**Question News 1**. Since kNN is a relatively slow algorithms, create your data set by picking 1,000 examples randomly. Remember to record both attribute values and labels. Split your data into 66% training and 33% test data sets.\n",
    "\n",
    "**Question News 2**. Train a kNN classifier ($k=3$ and defaults) on the training data and test its accuracy on test data. Record the computational time needed to run this. Report the accuracy (pay attention there are 4 types of documents).\n",
    "\n",
    "**Question News 3**. Train a kNN classifier using different values of $k$, hoping to improve accuracy. Try to use some other distance other than Euclidean. For example, cosine distance is know to work better than Eucliedean on text data.\n",
    "\n",
    "**Question Nesw 4**. Transform the original 100 attributes into 5 attributes using SVD. Train and test the kNN on the transformed data. Report the accuracies. You might be surprised to see that accuracy could go up. Discuss why this might be so.\n"
   ]
  },
  {
   "cell_type": "markdown",
   "metadata": {
    "collapsed": true
   },
   "source": [
    "#### Question Iris 1"
   ]
  },
  {
   "cell_type": "code",
   "execution_count": 19,
   "metadata": {},
   "outputs": [
    {
     "data": {
      "text/plain": [
       "[[0, 1], [0, 2], [0, 3], [1, 2], [1, 3], [2, 3]]"
      ]
     },
     "execution_count": 19,
     "metadata": {},
     "output_type": "execute_result"
    }
   ],
   "source": [
    "attrs = [0,1,2,3]\n",
    "pairs = list(itertools.combinations(attrs, 2))\n",
    "pairs = [list(p) for p in pairs]\n",
    "pairs"
   ]
  },
  {
   "cell_type": "code",
   "execution_count": 20,
   "metadata": {},
   "outputs": [
    {
     "data": {
      "text/plain": [
       "<matplotlib.figure.Figure at 0xc93f9e8>"
      ]
     },
     "metadata": {},
     "output_type": "display_data"
    },
    {
     "data": {
      "image/png": "[encoded data removed]",
      "text/plain": [
       "<matplotlib.figure.Figure at 0x1062b978>"
      ]
     },
     "metadata": {},
     "output_type": "display_data"
    },
    {
     "data": {
      "text/plain": [
       "<matplotlib.figure.Figure at 0xf039748>"
      ]
     },
     "metadata": {},
     "output_type": "display_data"
    },
    {
     "data": {
      "image/png": "[encoded data removed]",
      "text/plain": [
       "<matplotlib.figure.Figure at 0x107ab3c8>"
      ]
     },
     "metadata": {},
     "output_type": "display_data"
    },
    {
     "data": {
      "text/plain": [
       "<matplotlib.figure.Figure at 0x10844ef0>"
      ]
     },
     "metadata": {},
     "output_type": "display_data"
    },
    {
     "data": {
      "image/png": "[encoded data removed]",
      "text/plain": [
       "<matplotlib.figure.Figure at 0x107972b0>"
      ]
     },
     "metadata": {},
     "output_type": "display_data"
    },
    {
     "data": {
      "text/plain": [
       "<matplotlib.figure.Figure at 0x107ab358>"
      ]
     },
     "metadata": {},
     "output_type": "display_data"
    },
    {
     "data": {
      "image/png": "[encoded data removed]",
      "text/plain": [
       "<matplotlib.figure.Figure at 0x1082d2e8>"
      ]
     },
     "metadata": {},
     "output_type": "display_data"
    },
    {
     "data": {
      "text/plain": [
       "<matplotlib.figure.Figure at 0x100916d8>"
      ]
     },
     "metadata": {},
     "output_type": "display_data"
    },
    {
     "data": {
      "image/png": "[encoded data removed]",
      "text/plain": [
       "<matplotlib.figure.Figure at 0x10837d68>"
      ]
     },
     "metadata": {},
     "output_type": "display_data"
    },
    {
     "data": {
      "text/plain": [
       "<matplotlib.figure.Figure at 0xf0397f0>"
      ]
     },
     "metadata": {},
     "output_type": "display_data"
    },
    {
     "data": {
      "image/png": "[encoded data removed]",
      "text/plain": [
       "<matplotlib.figure.Figure at 0x1063ef28>"
      ]
     },
     "metadata": {},
     "output_type": "display_data"
    }
   ],
   "source": [
    "k = 15\n",
    "for p in pairs:\n",
    "    X_train, X_test, y_train, y_test = train_test_split(iris.data[:,p], iris.target, test_size = 0.33)\n",
    "    clf = neighbors.KNeighborsClassifier(k, weights = 'uniform')\n",
    "    clf.fit(X_train,y_train)\n",
    "    Z = clf.predict(np.c_[xx.ravel(), yy.ravel()])\n",
    "    Z = Z.reshape(xx.shape)\n",
    "    plt.figure()\n",
    "    plt.figure(figsize = (7,4))\n",
    "    plt.pcolormesh(xx,yy,Z,cmap = cmap_light)\n",
    "    plt.scatter(X_train[:,0], X_train[:,1], c = y_train, cmap = cmap_bold)\n",
    "    plt.xlim(xx.min(), xx.max())\n",
    "    plt.ylim(yy.min(), yy.max())\n",
    "    accuracy = clf.score(X_test, y_test)\n",
    "    plt.title('3-Class classification (attribute 1 = % i, attribute 2 = %i, accurary = %f)' % (p[0], p[1], accuracy))\n",
    "    plt.show()"
   ]
  },
  {
   "cell_type": "markdown",
   "metadata": {},
   "source": [
    "Attributes 3 and 4, and Attributes 2 and 3 result in the highest accuracy! Accuracy is 0.96 ~ 1.00"
   ]
  },
  {
   "cell_type": "markdown",
   "metadata": {},
   "source": [
    "#### Question Iris 2"
   ]
  },
  {
   "cell_type": "code",
   "execution_count": 21,
   "metadata": {},
   "outputs": [
    {
     "name": "stdout",
     "output_type": "stream",
     "text": [
      "(100L, 4L) (50L, 4L) (100L,) (50L,)\n"
     ]
    }
   ],
   "source": [
    "X_train, X_test, y_train, y_test = train_test_split(iris.data, iris.target, test_size = 0.33)\n",
    "print X_train.shape, X_test.shape, y_train.shape, y_test.shape"
   ]
  },
  {
   "cell_type": "markdown",
   "metadata": {},
   "source": [
    "Let's play around with k, metrics, and weights"
   ]
  },
  {
   "cell_type": "code",
   "execution_count": 22,
   "metadata": {},
   "outputs": [
    {
     "data": {
      "text/plain": [
       "72"
      ]
     },
     "execution_count": 22,
     "metadata": {},
     "output_type": "execute_result"
    }
   ],
   "source": [
    "Metrics = ['euclidean', 'minkowski', 'cosine', 'chebyshev', 'canberra', 'braycurtis']\n",
    "K = [1,3,5,15,25,50]\n",
    "Weights = ['uniform', 'distance']\n",
    "Combo = list(itertools.product(K,Weights, Metrics))\n",
    "len(Combo)"
   ]
  },
  {
   "cell_type": "code",
   "execution_count": 23,
   "metadata": {},
   "outputs": [
    {
     "name": "stdout",
     "output_type": "stream",
     "text": [
      "k = 1, weights = uniform, metrics = euclidean, accuracy = 0.900000\n",
      "k = 1, weights = uniform, metrics = minkowski, accuracy = 0.900000\n",
      "k = 1, weights = uniform, metrics = cosine, accuracy = 0.940000\n",
      "k = 1, weights = uniform, metrics = chebyshev, accuracy = 0.880000\n",
      "k = 1, weights = uniform, metrics = canberra, accuracy = 0.940000\n",
      "k = 1, weights = uniform, metrics = braycurtis, accuracy = 0.880000\n",
      "k = 1, weights = distance, metrics = euclidean, accuracy = 0.900000\n",
      "k = 1, weights = distance, metrics = minkowski, accuracy = 0.900000\n",
      "k = 1, weights = distance, metrics = cosine, accuracy = 0.940000\n",
      "k = 1, weights = distance, metrics = chebyshev, accuracy = 0.880000\n",
      "k = 1, weights = distance, metrics = canberra, accuracy = 0.940000\n",
      "k = 1, weights = distance, metrics = braycurtis, accuracy = 0.880000\n",
      "k = 3, weights = uniform, metrics = euclidean, accuracy = 0.860000\n",
      "k = 3, weights = uniform, metrics = minkowski, accuracy = 0.860000\n",
      "k = 3, weights = uniform, metrics = cosine, accuracy = 0.980000\n",
      "k = 3, weights = uniform, metrics = chebyshev, accuracy = 0.920000\n",
      "k = 3, weights = uniform, metrics = canberra, accuracy = 0.960000\n",
      "k = 3, weights = uniform, metrics = braycurtis, accuracy = 0.880000\n",
      "k = 3, weights = distance, metrics = euclidean, accuracy = 0.860000\n",
      "k = 3, weights = distance, metrics = minkowski, accuracy = 0.860000\n",
      "k = 3, weights = distance, metrics = cosine, accuracy = 0.960000\n",
      "k = 3, weights = distance, metrics = chebyshev, accuracy = 0.920000\n",
      "k = 3, weights = distance, metrics = canberra, accuracy = 0.960000\n",
      "k = 3, weights = distance, metrics = braycurtis, accuracy = 0.880000\n",
      "k = 5, weights = uniform, metrics = euclidean, accuracy = 0.880000\n",
      "k = 5, weights = uniform, metrics = minkowski, accuracy = 0.880000\n",
      "k = 5, weights = uniform, metrics = cosine, accuracy = 0.940000\n",
      "k = 5, weights = uniform, metrics = chebyshev, accuracy = 0.920000\n",
      "k = 5, weights = uniform, metrics = canberra, accuracy = 0.960000\n",
      "k = 5, weights = uniform, metrics = braycurtis, accuracy = 0.880000\n",
      "k = 5, weights = distance, metrics = euclidean, accuracy = 0.880000\n",
      "k = 5, weights = distance, metrics = minkowski, accuracy = 0.880000\n",
      "k = 5, weights = distance, metrics = cosine, accuracy = 0.960000\n",
      "k = 5, weights = distance, metrics = chebyshev, accuracy = 0.920000\n",
      "k = 5, weights = distance, metrics = canberra, accuracy = 0.940000\n",
      "k = 5, weights = distance, metrics = braycurtis, accuracy = 0.880000\n",
      "k = 15, weights = uniform, metrics = euclidean, accuracy = 0.880000\n",
      "k = 15, weights = uniform, metrics = minkowski, accuracy = 0.880000\n",
      "k = 15, weights = uniform, metrics = cosine, accuracy = 0.940000\n",
      "k = 15, weights = uniform, metrics = chebyshev, accuracy = 0.900000\n",
      "k = 15, weights = uniform, metrics = canberra, accuracy = 0.920000\n",
      "k = 15, weights = uniform, metrics = braycurtis, accuracy = 0.900000\n",
      "k = 15, weights = distance, metrics = euclidean, accuracy = 0.900000\n",
      "k = 15, weights = distance, metrics = minkowski, accuracy = 0.900000\n",
      "k = 15, weights = distance, metrics = cosine, accuracy = 0.980000\n",
      "k = 15, weights = distance, metrics = chebyshev, accuracy = 0.900000\n",
      "k = 15, weights = distance, metrics = canberra, accuracy = 0.960000\n",
      "k = 15, weights = distance, metrics = braycurtis, accuracy = 0.900000\n",
      "k = 25, weights = uniform, metrics = euclidean, accuracy = 0.860000\n",
      "k = 25, weights = uniform, metrics = minkowski, accuracy = 0.860000\n",
      "k = 25, weights = uniform, metrics = cosine, accuracy = 0.960000\n",
      "k = 25, weights = uniform, metrics = chebyshev, accuracy = 0.840000\n",
      "k = 25, weights = uniform, metrics = canberra, accuracy = 0.900000\n",
      "k = 25, weights = uniform, metrics = braycurtis, accuracy = 0.880000\n",
      "k = 25, weights = distance, metrics = euclidean, accuracy = 0.880000\n",
      "k = 25, weights = distance, metrics = minkowski, accuracy = 0.880000\n",
      "k = 25, weights = distance, metrics = cosine, accuracy = 0.980000\n",
      "k = 25, weights = distance, metrics = chebyshev, accuracy = 0.860000\n",
      "k = 25, weights = distance, metrics = canberra, accuracy = 0.900000\n",
      "k = 25, weights = distance, metrics = braycurtis, accuracy = 0.900000\n",
      "k = 50, weights = uniform, metrics = euclidean, accuracy = 0.840000\n",
      "k = 50, weights = uniform, metrics = minkowski, accuracy = 0.840000\n",
      "k = 50, weights = uniform, metrics = cosine, accuracy = 0.960000\n",
      "k = 50, weights = uniform, metrics = chebyshev, accuracy = 0.840000\n",
      "k = 50, weights = uniform, metrics = canberra, accuracy = 0.940000\n",
      "k = 50, weights = uniform, metrics = braycurtis, accuracy = 0.840000\n",
      "k = 50, weights = distance, metrics = euclidean, accuracy = 0.840000\n",
      "k = 50, weights = distance, metrics = minkowski, accuracy = 0.840000\n",
      "k = 50, weights = distance, metrics = cosine, accuracy = 0.980000\n",
      "k = 50, weights = distance, metrics = chebyshev, accuracy = 0.840000\n",
      "k = 50, weights = distance, metrics = canberra, accuracy = 0.940000\n",
      "k = 50, weights = distance, metrics = braycurtis, accuracy = 0.860000\n"
     ]
    }
   ],
   "source": [
    "for c in Combo:\n",
    "    k = c[0]\n",
    "    weight = c[1]\n",
    "    metrics = c[2]\n",
    "    predictor = neighbors.KNeighborsClassifier(k, weights = weight, metric = metrics)\n",
    "    predictor.fit(X_train, y_train)\n",
    "    accuracy = predictor.score(X_test, y_test)\n",
    "    print 'k = %i, weights = %s, metrics = %s, accuracy = %f' % (k, weight, metrics, accuracy)"
   ]
  },
  {
   "cell_type": "markdown",
   "metadata": {},
   "source": [
    "Best results are: \n",
    "\n",
    "k = 3, weights = uniform, metrics = cosine, accuracy = 0.980000\n",
    "\n",
    "k = 15, weights = distance, metrics = cosine, accuracy = 0.980000\n",
    "\n",
    "k = 25, weights = distance, metrics = cosine, accuracy = 0.980000\n",
    "\n",
    "k = 50, weights = distance, metrics = cosine, accuracy = 0.980000\n",
    "\n",
    "metrics = cosine is doing so well!"
   ]
  },
  {
   "cell_type": "markdown",
   "metadata": {},
   "source": [
    "#### Newsgroup question 1"
   ]
  },
  {
   "cell_type": "code",
   "execution_count": 24,
   "metadata": {},
   "outputs": [
    {
     "data": {
      "text/plain": [
       "((1000L, 100L), (1000L,))"
      ]
     },
     "execution_count": 24,
     "metadata": {},
     "output_type": "execute_result"
    }
   ],
   "source": [
    "import random\n",
    "import pandas as pd\n",
    "wordlist = np.loadtxt('wordlist.csv', delimiter=\",\",dtype='str')\n",
    "documents = np.loadtxt('documents.csv', delimiter=\",\",dtype='int')\n",
    "documents = np.transpose(documents)\n",
    "newsgroup = np.loadtxt('newsgroup.csv', delimiter=\",\",dtype='int')\n",
    "df = pd.DataFrame(documents, columns = wordlist)\n",
    "df['Type'] = newsgroup\n",
    "rindex = np.array(random.sample(xrange(len(df)),1000))\n",
    "df1 = df.iloc[rindex]\n",
    "temp = df1.drop('Type',axis = 1)\n",
    "dataMatrix = temp.as_matrix()\n",
    "targetMatrix = df1['Type'].as_matrix()\n",
    "dataMatrix.shape, targetMatrix.shape"
   ]
  },
  {
   "cell_type": "code",
   "execution_count": 25,
   "metadata": {},
   "outputs": [
    {
     "name": "stdout",
     "output_type": "stream",
     "text": [
      "(670L, 100L) (330L, 100L) (670L,) (330L,)\n"
     ]
    }
   ],
   "source": [
    "X_train, X_test, y_train, y_test = train_test_split(dataMatrix, targetMatrix, test_size = 0.33)\n",
    "print X_train.shape, X_test.shape, y_train.shape, y_test.shape"
   ]
  },
  {
   "cell_type": "markdown",
   "metadata": {},
   "source": [
    "#### Newsgroup question 2"
   ]
  },
  {
   "cell_type": "code",
   "execution_count": 26,
   "metadata": {
    "collapsed": true
   },
   "outputs": [],
   "source": [
    "import time"
   ]
  },
  {
   "cell_type": "code",
   "execution_count": 27,
   "metadata": {},
   "outputs": [
    {
     "name": "stdout",
     "output_type": "stream",
     "text": [
      "accuracy = 0.648485, computational cost = 0.118000\n"
     ]
    }
   ],
   "source": [
    "k = 3\n",
    "start = time.time()\n",
    "predictor = neighbors.KNeighborsClassifier(k, weights = 'uniform')\n",
    "predictor.fit(X_train, y_train)\n",
    "accuracy = predictor.score(X_test, y_test)\n",
    "end = time.time()\n",
    "print 'accuracy = %f, computational cost = %f' % (accuracy, end-start)"
   ]
  },
  {
   "cell_type": "markdown",
   "metadata": {},
   "source": [
    "pretty fast and fair result!"
   ]
  },
  {
   "cell_type": "markdown",
   "metadata": {},
   "source": [
    "#### Question Newsgroup 3\n",
    "\n",
    "Let's play around using our created Combo"
   ]
  },
  {
   "cell_type": "code",
   "execution_count": 28,
   "metadata": {},
   "outputs": [
    {
     "data": {
      "text/plain": [
       "60"
      ]
     },
     "execution_count": 28,
     "metadata": {},
     "output_type": "execute_result"
    }
   ],
   "source": [
    "Metrics = ['euclidean', 'minkowski', 'cosine', 'chebyshev', 'canberra', 'braycurtis']\n",
    "K = [5,15,25,50, 100]\n",
    "Weights = ['uniform', 'distance']\n",
    "Combo = list(itertools.product(K,Weights, Metrics))\n",
    "len(Combo)"
   ]
  },
  {
   "cell_type": "code",
   "execution_count": 29,
   "metadata": {},
   "outputs": [
    {
     "name": "stdout",
     "output_type": "stream",
     "text": [
      "k = 5, weights = uniform, metrics = euclidean, accuracy = 0.651515\n",
      "k = 5, weights = uniform, metrics = minkowski, accuracy = 0.651515\n",
      "k = 5, weights = uniform, metrics = cosine, accuracy = 0.745455\n",
      "k = 5, weights = uniform, metrics = chebyshev, accuracy = 0.348485\n",
      "k = 5, weights = uniform, metrics = canberra, accuracy = 0.654545\n",
      "k = 5, weights = uniform, metrics = braycurtis, accuracy = 0.736364\n",
      "k = 5, weights = distance, metrics = euclidean, accuracy = 0.672727\n",
      "k = 5, weights = distance, metrics = minkowski, accuracy = 0.672727\n",
      "k = 5, weights = distance, metrics = cosine, accuracy = 0.748485\n",
      "k = 5, weights = distance, metrics = chebyshev, accuracy = 0.363636\n",
      "k = 5, weights = distance, metrics = canberra, accuracy = 0.675758\n",
      "k = 5, weights = distance, metrics = braycurtis, accuracy = 0.745455\n",
      "k = 15, weights = uniform, metrics = euclidean, accuracy = 0.669697\n",
      "k = 15, weights = uniform, metrics = minkowski, accuracy = 0.669697\n",
      "k = 15, weights = uniform, metrics = cosine, accuracy = 0.769697\n",
      "k = 15, weights = uniform, metrics = chebyshev, accuracy = 0.324242\n",
      "k = 15, weights = uniform, metrics = canberra, accuracy = 0.672727\n",
      "k = 15, weights = uniform, metrics = braycurtis, accuracy = 0.769697\n",
      "k = 15, weights = distance, metrics = euclidean, accuracy = 0.706061\n",
      "k = 15, weights = distance, metrics = minkowski, accuracy = 0.706061\n",
      "k = 15, weights = distance, metrics = cosine, accuracy = 0.769697\n",
      "k = 15, weights = distance, metrics = chebyshev, accuracy = 0.357576\n",
      "k = 15, weights = distance, metrics = canberra, accuracy = 0.693939\n",
      "k = 15, weights = distance, metrics = braycurtis, accuracy = 0.760606\n",
      "k = 25, weights = uniform, metrics = euclidean, accuracy = 0.703030\n",
      "k = 25, weights = uniform, metrics = minkowski, accuracy = 0.703030\n",
      "k = 25, weights = uniform, metrics = cosine, accuracy = 0.754545\n",
      "k = 25, weights = uniform, metrics = chebyshev, accuracy = 0.318182\n",
      "k = 25, weights = uniform, metrics = canberra, accuracy = 0.706061\n",
      "k = 25, weights = uniform, metrics = braycurtis, accuracy = 0.769697\n",
      "k = 25, weights = distance, metrics = euclidean, accuracy = 0.721212\n",
      "k = 25, weights = distance, metrics = minkowski, accuracy = 0.721212\n",
      "k = 25, weights = distance, metrics = cosine, accuracy = 0.760606\n",
      "k = 25, weights = distance, metrics = chebyshev, accuracy = 0.360606\n",
      "k = 25, weights = distance, metrics = canberra, accuracy = 0.727273\n",
      "k = 25, weights = distance, metrics = braycurtis, accuracy = 0.763636\n",
      "k = 50, weights = uniform, metrics = euclidean, accuracy = 0.678788\n",
      "k = 50, weights = uniform, metrics = minkowski, accuracy = 0.678788\n",
      "k = 50, weights = uniform, metrics = cosine, accuracy = 0.724242\n",
      "k = 50, weights = uniform, metrics = chebyshev, accuracy = 0.351515\n",
      "k = 50, weights = uniform, metrics = canberra, accuracy = 0.672727\n",
      "k = 50, weights = uniform, metrics = braycurtis, accuracy = 0.733333\n",
      "k = 50, weights = distance, metrics = euclidean, accuracy = 0.718182\n",
      "k = 50, weights = distance, metrics = minkowski, accuracy = 0.718182\n",
      "k = 50, weights = distance, metrics = cosine, accuracy = 0.739394\n",
      "k = 50, weights = distance, metrics = chebyshev, accuracy = 0.372727\n",
      "k = 50, weights = distance, metrics = canberra, accuracy = 0.727273\n",
      "k = 50, weights = distance, metrics = braycurtis, accuracy = 0.733333\n",
      "k = 100, weights = uniform, metrics = euclidean, accuracy = 0.612121\n",
      "k = 100, weights = uniform, metrics = minkowski, accuracy = 0.612121\n",
      "k = 100, weights = uniform, metrics = cosine, accuracy = 0.715152\n",
      "k = 100, weights = uniform, metrics = chebyshev, accuracy = 0.321212\n",
      "k = 100, weights = uniform, metrics = canberra, accuracy = 0.615152\n",
      "k = 100, weights = uniform, metrics = braycurtis, accuracy = 0.715152\n",
      "k = 100, weights = distance, metrics = euclidean, accuracy = 0.663636\n",
      "k = 100, weights = distance, metrics = minkowski, accuracy = 0.663636\n",
      "k = 100, weights = distance, metrics = cosine, accuracy = 0.721212\n",
      "k = 100, weights = distance, metrics = chebyshev, accuracy = 0.357576\n",
      "k = 100, weights = distance, metrics = canberra, accuracy = 0.681818\n",
      "k = 100, weights = distance, metrics = braycurtis, accuracy = 0.730303\n"
     ]
    }
   ],
   "source": [
    "for c in Combo:\n",
    "    k = c[0]\n",
    "    weight = c[1]\n",
    "    metrics = c[2]\n",
    "    predictor = neighbors.KNeighborsClassifier(k, weights = weight, metric = metrics)\n",
    "    predictor.fit(X_train, y_train)\n",
    "    accuracy = predictor.score(X_test, y_test)\n",
    "    print 'k = %i, weights = %s, metrics = %s, accuracy = %f' % (k, weight, metrics, accuracy)"
   ]
  },
  {
   "cell_type": "markdown",
   "metadata": {},
   "source": [
    "our best results are:\n",
    "\n",
    "k = 15, weights = uniform, metrics = cosine, accuracy = 0.769697\n",
    "\n",
    "k = 15, weights = distance, metrics = cosine, accuracy = 0.769697\n"
   ]
  },
  {
   "cell_type": "markdown",
   "metadata": {},
   "source": [
    "#### Question Newsgroup 4"
   ]
  },
  {
   "cell_type": "code",
   "execution_count": 30,
   "metadata": {},
   "outputs": [
    {
     "name": "stdout",
     "output_type": "stream",
     "text": [
      "(670L, 5L) (330L, 5L) (670L,) (330L,)\n"
     ]
    }
   ],
   "source": [
    "U,s,V = np.linalg.svd(dataMatrix, full_matrices = 0)\n",
    "A5 = np.dot(U[:,:5],np.diag(s)[:5,:5])\n",
    "X_train, X_test, y_train, y_test = train_test_split(A5, targetMatrix, test_size = 0.33)\n",
    "print X_train.shape, X_test.shape, y_train.shape, y_test.shape"
   ]
  },
  {
   "cell_type": "code",
   "execution_count": 31,
   "metadata": {},
   "outputs": [
    {
     "name": "stdout",
     "output_type": "stream",
     "text": [
      "k = 5, weights = uniform, metrics = euclidean, accuracy = 0.639394\n",
      "k = 5, weights = uniform, metrics = minkowski, accuracy = 0.639394\n",
      "k = 5, weights = uniform, metrics = cosine, accuracy = 0.630303\n",
      "k = 5, weights = uniform, metrics = chebyshev, accuracy = 0.657576\n",
      "k = 5, weights = uniform, metrics = canberra, accuracy = 0.630303\n",
      "k = 5, weights = uniform, metrics = braycurtis, accuracy = 0.666667\n",
      "k = 5, weights = distance, metrics = euclidean, accuracy = 0.630303\n",
      "k = 5, weights = distance, metrics = minkowski, accuracy = 0.630303\n",
      "k = 5, weights = distance, metrics = cosine, accuracy = 0.630303\n",
      "k = 5, weights = distance, metrics = chebyshev, accuracy = 0.642424\n",
      "k = 5, weights = distance, metrics = canberra, accuracy = 0.630303\n",
      "k = 5, weights = distance, metrics = braycurtis, accuracy = 0.654545\n",
      "k = 15, weights = uniform, metrics = euclidean, accuracy = 0.684848\n",
      "k = 15, weights = uniform, metrics = minkowski, accuracy = 0.684848\n",
      "k = 15, weights = uniform, metrics = cosine, accuracy = 0.706061\n",
      "k = 15, weights = uniform, metrics = chebyshev, accuracy = 0.672727\n",
      "k = 15, weights = uniform, metrics = canberra, accuracy = 0.663636\n",
      "k = 15, weights = uniform, metrics = braycurtis, accuracy = 0.696970\n",
      "k = 15, weights = distance, metrics = euclidean, accuracy = 0.675758\n",
      "k = 15, weights = distance, metrics = minkowski, accuracy = 0.675758\n",
      "k = 15, weights = distance, metrics = cosine, accuracy = 0.666667\n",
      "k = 15, weights = distance, metrics = chebyshev, accuracy = 0.672727\n",
      "k = 15, weights = distance, metrics = canberra, accuracy = 0.663636\n",
      "k = 15, weights = distance, metrics = braycurtis, accuracy = 0.672727\n",
      "k = 25, weights = uniform, metrics = euclidean, accuracy = 0.700000\n",
      "k = 25, weights = uniform, metrics = minkowski, accuracy = 0.700000\n",
      "k = 25, weights = uniform, metrics = cosine, accuracy = 0.715152\n",
      "k = 25, weights = uniform, metrics = chebyshev, accuracy = 0.681818\n",
      "k = 25, weights = uniform, metrics = canberra, accuracy = 0.684848\n",
      "k = 25, weights = uniform, metrics = braycurtis, accuracy = 0.681818\n",
      "k = 25, weights = distance, metrics = euclidean, accuracy = 0.693939\n",
      "k = 25, weights = distance, metrics = minkowski, accuracy = 0.693939\n",
      "k = 25, weights = distance, metrics = cosine, accuracy = 0.687879\n",
      "k = 25, weights = distance, metrics = chebyshev, accuracy = 0.672727\n",
      "k = 25, weights = distance, metrics = canberra, accuracy = 0.654545\n",
      "k = 25, weights = distance, metrics = braycurtis, accuracy = 0.675758\n",
      "k = 50, weights = uniform, metrics = euclidean, accuracy = 0.666667\n",
      "k = 50, weights = uniform, metrics = minkowski, accuracy = 0.666667\n",
      "k = 50, weights = uniform, metrics = cosine, accuracy = 0.718182\n",
      "k = 50, weights = uniform, metrics = chebyshev, accuracy = 0.669697\n",
      "k = 50, weights = uniform, metrics = canberra, accuracy = 0.681818\n",
      "k = 50, weights = uniform, metrics = braycurtis, accuracy = 0.681818\n",
      "k = 50, weights = distance, metrics = euclidean, accuracy = 0.678788\n",
      "k = 50, weights = distance, metrics = minkowski, accuracy = 0.678788\n",
      "k = 50, weights = distance, metrics = cosine, accuracy = 0.706061\n",
      "k = 50, weights = distance, metrics = chebyshev, accuracy = 0.678788\n",
      "k = 50, weights = distance, metrics = canberra, accuracy = 0.669697\n",
      "k = 50, weights = distance, metrics = braycurtis, accuracy = 0.669697\n",
      "k = 100, weights = uniform, metrics = euclidean, accuracy = 0.651515\n",
      "k = 100, weights = uniform, metrics = minkowski, accuracy = 0.651515\n",
      "k = 100, weights = uniform, metrics = cosine, accuracy = 0.727273\n",
      "k = 100, weights = uniform, metrics = chebyshev, accuracy = 0.642424\n",
      "k = 100, weights = uniform, metrics = canberra, accuracy = 0.666667\n",
      "k = 100, weights = uniform, metrics = braycurtis, accuracy = 0.675758\n",
      "k = 100, weights = distance, metrics = euclidean, accuracy = 0.672727\n",
      "k = 100, weights = distance, metrics = minkowski, accuracy = 0.672727\n",
      "k = 100, weights = distance, metrics = cosine, accuracy = 0.703030\n",
      "k = 100, weights = distance, metrics = chebyshev, accuracy = 0.672727\n",
      "k = 100, weights = distance, metrics = canberra, accuracy = 0.657576\n",
      "k = 100, weights = distance, metrics = braycurtis, accuracy = 0.681818\n"
     ]
    }
   ],
   "source": [
    "for c in Combo:\n",
    "    k = c[0]\n",
    "    weight = c[1]\n",
    "    metrics = c[2]\n",
    "    predictor = neighbors.KNeighborsClassifier(k, weights = weight, metric = metrics)\n",
    "    predictor.fit(X_train, y_train)\n",
    "    accuracy = predictor.score(X_test, y_test)\n",
    "    print 'k = %i, weights = %s, metrics = %s, accuracy = %f' % (k, weight, metrics, accuracy)"
   ]
  },
  {
   "cell_type": "markdown",
   "metadata": {},
   "source": [
    "In general, there are more cases where the accuracy decreases than cases where the accuracy increases. However, there is a very noticeable case: the case with Chebyshev metrics is doing very bad before SVD and gets accuracy around 0.31 to 0.37. After SVD, accuracy increases a whole lot for Chebyshev metrics, increase by around 0.3. Other than this case, there are also other cases when accuracy increases after SVD but not many. The reason why we have this increase may be that by using SVD, we 'condense' 100 attributes into 5 attributes, and that somehow works better for some metrics and for some number of k. THe other reason is measuring distance in high dimension is very difficult, decreasing dimension allows some metrics to measure distance better! "
   ]
  }
 ],
 "metadata": {
  "anaconda-cloud": {},
  "kernelspec": {
   "display_name": "Python 2",
   "language": "python",
   "name": "python2"
  },
  "language_info": {
   "codemirror_mode": {
    "name": "ipython",
    "version": 2
   },
   "file_extension": ".py",
   "mimetype": "text/x-python",
   "name": "python",
   "nbconvert_exporter": "python",
   "pygments_lexer": "ipython2",
   "version": "2.7.14"
  }
 },
 "nbformat": 4,
 "nbformat_minor": 1
}
